{
  "nbformat": 4,
  "nbformat_minor": 0,
  "metadata": {
    "kernelspec": {
      "display_name": "Python 3",
      "language": "python",
      "name": "python3"
    },
    "language_info": {
      "codemirror_mode": {
        "name": "ipython",
        "version": 3
      },
      "file_extension": ".py",
      "mimetype": "text/x-python",
      "name": "python",
      "nbconvert_exporter": "python",
      "pygments_lexer": "ipython3",
      "version": "3.7.3"
    },
    "colab": {
      "name": "RNN_sentiment_analysis_problem.ipynb",
      "provenance": [],
      "include_colab_link": true
    }
  },
  "cells": [
    {
      "cell_type": "markdown",
      "metadata": {
        "id": "view-in-github",
        "colab_type": "text"
      },
      "source": [
        "<a href=\"https://colab.research.google.com/github/linainsaf/advanced_machine_learning/blob/main/RNN_sentiment_analysis_problem.ipynb\" target=\"_parent\"><img src=\"https://colab.research.google.com/assets/colab-badge.svg\" alt=\"Open In Colab\"/></a>"
      ]
    },
    {
      "cell_type": "markdown",
      "metadata": {
        "id": "-wcl_McWj2tn"
      },
      "source": [
        "<img src=\"https://upload.wikimedia.org/wikipedia/fr/8/81/Sciences_SU.png\" width=\"240\" height=\"240\" align=\"center\"/>\n"
      ]
    },
    {
      "cell_type": "markdown",
      "metadata": {
        "id": "6ovxFKAAj2to"
      },
      "source": [
        "# MLA 703. RNN-LSTM et architectures avancées [Analyse de sentiment]"
      ]
    },
    {
      "cell_type": "code",
      "metadata": {
        "id": "eWLHKoG6j2tp"
      },
      "source": [
        "# Dans ce notebook, nous allons nous intéresser à des tâches d'analyse de sentiments\n",
        "# -> c'est à dire prédire un label de sentiment (ici positif ou négatif) à partir d'un texte\n",
        "\n",
        "# Ce notebook vise à approfondir : \n",
        "# - L'application du DL sur des données textuelles\n",
        "# - La compréhension des architectures RNN avancées comme les LSTM et les mécanismes d'attention\n",
        "#"
      ],
      "execution_count": null,
      "outputs": []
    },
    {
      "cell_type": "markdown",
      "metadata": {
        "id": "sTC0SJwEj2tq"
      },
      "source": [
        "# Importation des modules"
      ]
    },
    {
      "cell_type": "code",
      "metadata": {
        "id": "DfDpiDv4j2tq"
      },
      "source": [
        "# On importe les librairies usuelless\n",
        "import math\n",
        "import numpy as np\n",
        "import matplotlib.pyplot as plt\n",
        "\n",
        "# On désactive les warnings\n",
        "import warnings\n",
        "warnings.filterwarnings('ignore')\n"
      ],
      "execution_count": 228,
      "outputs": []
    },
    {
      "cell_type": "markdown",
      "metadata": {
        "id": "kt2bfDIwoZ_3"
      },
      "source": [
        "# Fonction utile "
      ]
    },
    {
      "cell_type": "code",
      "metadata": {
        "id": "SfGk7PHXoV7w"
      },
      "source": [
        "def plot_history(history):\n",
        "  # On trace la loss et l'accuracy du modèle\n",
        "  # On trace l'évolution de l'accuracy\n",
        "  plt.plot(history.history['accuracy'])\n",
        "  plt.plot(history.history['val_accuracy']) \n",
        "  plt.title('model accuracy')\n",
        "  plt.ylabel('accuracy')\n",
        "  plt.xlabel('epoch')\n",
        "  plt.legend(['train', 'test'], loc='upper left')\n",
        "  plt.show()\n",
        "  # On trace l'évolution de la loss\n",
        "  plt.plot(history.history['loss'])\n",
        "  plt.plot(history.history['val_loss'])\n",
        "  plt.title('model loss')\n",
        "  plt.ylabel('loss')\n",
        "  plt.xlabel('epoch')\n",
        "  plt.legend(['train', 'test'], loc='upper left')\n",
        "  plt.show()"
      ],
      "execution_count": 229,
      "outputs": []
    },
    {
      "cell_type": "code",
      "metadata": {
        "id": "D4yyKoT-o8hi"
      },
      "source": [
        "def predict(model):\n",
        "\n",
        "  # On prédit sur l'ensemble de test\n",
        "\n",
        "  # On prédit sur les données de test\n",
        "  y_hat = model.predict(x_test)\n",
        "\n",
        "  # On tranforme les prédictions en labels\n",
        "  i_pos = [i for i in range(len(y_hat)) if y_hat[i]>0]\n",
        "  i_neg = [i for i in range(len(y_hat)) if y_hat[i]<=0]\n",
        "\n",
        "  y_pred   = np.zeros(len(y_hat))\n",
        "  y_pred[i_pos] = 1\n",
        "  y_pred[i_neg] = 0\n",
        "  return y_pred"
      ],
      "execution_count": 230,
      "outputs": []
    },
    {
      "cell_type": "markdown",
      "metadata": {
        "id": "uwOjTZYej2tq"
      },
      "source": [
        "## 1. Charger les données"
      ]
    },
    {
      "cell_type": "code",
      "metadata": {
        "id": "2PcQTK_8j2tq"
      },
      "source": [
        "# On charge directement la base IMDB par les datasets de Keras\n",
        "# La méthode load_date possède pas mal d'options et de propriétés intéressantes (voir description) :\n",
        "# 1) Sépare les jeux d'entrainement et de test\n",
        "# 2) num_words : Top most frequent words to consider.\n",
        "# 3) skip_top : Top most frequent words to ignore (they will appear as oov_char value in the sequence data).\n",
        "# 4) maxlen : Maximum sequence length. Any longer sequence will be truncated.\n",
        "# 5) seed : Seed for reproducible data shuffling.\n",
        "# 6) start_char : The start of a sequence will be marked with this character. Set to 1 because 0 is usually the padding character.\n",
        "# 7) oov_char : words that were cut out because of the num_words or skip_top limit will be replaced with this character.\n",
        "# 8) index_from : Index actual words with this index and higher.\n",
        "\n",
        "from tensorflow.keras.datasets import imdb\n",
        "\n",
        "num_words = 5000\n",
        "max_len   =  100\n",
        "\n",
        "(x_train, y_train), (x_test, y_test) = imdb.load_data(num_words=num_words,\n",
        "                                                      maxlen=max_len)\n",
        "                                            "
      ],
      "execution_count": 231,
      "outputs": []
    },
    {
      "cell_type": "markdown",
      "metadata": {
        "id": "iUWPA8buj2tq"
      },
      "source": [
        "## 2. Formater/Préparer les données"
      ]
    },
    {
      "cell_type": "code",
      "metadata": {
        "colab": {
          "base_uri": "https://localhost:8080/"
        },
        "id": "h7BzHLIcj2tr",
        "outputId": "2e1b7044-a834-461e-865e-9e8e31959ad1"
      },
      "source": [
        "from tensorflow.keras.preprocessing.sequence import pad_sequences\n",
        "\n",
        "# On padde les séquences\n",
        "\n",
        "print(\"La phrase avant padding est : \\n {}\". format(x_train[0]))\n",
        "\n",
        "# On padde les séquence de mot\n",
        "max_len       = 100\n",
        "x_train       = pad_sequences(x_train, maxlen=max_len, truncating='post')\n",
        "x_test        = pad_sequences(x_test, maxlen=max_len, truncating='post')\n",
        "\n",
        "print(\"La phrase paddée sur une longueur {} est : \\n {}\". format(max_len, x_train[0]))\n",
        "      \n",
        "print(len(x_train))    "
      ],
      "execution_count": 232,
      "outputs": [
        {
          "output_type": "stream",
          "name": "stdout",
          "text": [
            "La phrase avant padding est : \n",
            " [1, 778, 128, 74, 12, 630, 163, 15, 4, 1766, 2, 1051, 2, 32, 85, 156, 45, 40, 148, 139, 121, 664, 665, 10, 10, 1361, 173, 4, 749, 2, 16, 3804, 8, 4, 226, 65, 12, 43, 127, 24, 2, 10, 10]\n",
            "La phrase paddée sur une longueur 100 est : \n",
            " [   0    0    0    0    0    0    0    0    0    0    0    0    0    0\n",
            "    0    0    0    0    0    0    0    0    0    0    0    0    0    0\n",
            "    0    0    0    0    0    0    0    0    0    0    0    0    0    0\n",
            "    0    0    0    0    0    0    0    0    0    0    0    0    0    0\n",
            "    0    1  778  128   74   12  630  163   15    4 1766    2 1051    2\n",
            "   32   85  156   45   40  148  139  121  664  665   10   10 1361  173\n",
            "    4  749    2   16 3804    8    4  226   65   12   43  127   24    2\n",
            "   10   10]\n",
            "2773\n"
          ]
        }
      ]
    },
    {
      "cell_type": "markdown",
      "metadata": {
        "id": "vC4r3IT1j2ts"
      },
      "source": [
        "## 3. Déclaration du réseau"
      ]
    },
    {
      "cell_type": "markdown",
      "metadata": {
        "id": "yJE2oW-Xj2ts"
      },
      "source": [
        "La tâche consiste à prédire la valence d'un texte à partir de son contenu.\n",
        "Pour ce faire nous allons créer une architecture many-to-one \n",
        "avec les réseaux RNNs\n",
        "Le problème consiste à implémenter et apprendre\n",
        "des réseaux avec - par exemple - les configurations suivantes : \n",
        "On va comparer les configurations suivantes : \n",
        "- Simple RNN avec dropout (avec un taux de 25% en sortie du RNN)\n",
        "- RNN-LSTM gauche-droite classique\n",
        "- LSTM bi-directionnel et return_sequences = False\n",
        "- Plusieurs couches au choix. On veillera en particulier \n",
        "  à la valeur des arguments return_sequences\n",
        "  \n",
        "Dans le rapport à faire directement dans le notebook, on prendra soin de :\n",
        "- reporter les losses sur les ensembles d'entrainement et de validation\n",
        "- mesurer l'accuracy sur l'ensemble de test\n",
        "On commentera les résultats obtenus en comparant les configurations\n",
        "Quelle est la configuration donnant la meilleure performance ? \n",
        "Pourquoi ?\n",
        "\n",
        "Aide : une couche LSTM bi-directionnelle est obtenue en appliquant sur la même couche une couche LSTM et une couche Bidirectional"
      ]
    },
    {
      "cell_type": "markdown",
      "metadata": {
        "id": "up6fjdQjkzL9"
      },
      "source": [
        "# Simple RNN avec dropout (avec un taux de 25% en sortie du RNN)"
      ]
    },
    {
      "cell_type": "code",
      "metadata": {
        "colab": {
          "base_uri": "https://localhost:8080/"
        },
        "id": "HWA5HqtOj2ts",
        "outputId": "d7bf01bd-f23e-4fe5-b49c-79234c0913cd"
      },
      "source": [
        "# On importe les librairies pour le RNN\n",
        "from tensorflow.keras.layers import Dense , Input , SimpleRNN, LSTM , Embedding, Dropout\n",
        "from tensorflow.keras.layers import Bidirectional, GlobalMaxPool1D\n",
        "from tensorflow.keras.models import Model, Sequential\n",
        "from tensorflow.keras.layers import Convolution1D,MaxPooling1D\n",
        "from tensorflow.keras.losses import BinaryCrossentropy\n",
        "from tensorflow.keras.optimizers import  Adam\n",
        "#from tensorflow.keras import initializers, regularizers, constraints, optimizers, layers\n",
        "\n",
        "embed_size = 128                                                   # dimension de l'embedding\n",
        "RNN_size   = 64\n",
        "\n",
        "# Example d'architecture pour le réseau RNN simple avec dropout\n",
        "model_rnn_simple = Sequential()\n",
        "model_rnn_simple.add(Embedding(num_words, embed_size))                 # layer embedding\n",
        "model_rnn_simple.add(SimpleRNN(RNN_size, return_sequences = False))    # layer RNN\n",
        "model_rnn_simple.add(Dropout(0.25))                                    # layer Dropout\n",
        "model_rnn_simple.add(Dense(1))                                         # layer Dense\n",
        "\n",
        "# On affiche l'architecture de notre modèle\n",
        "model_rnn_simple.summary()\n",
        "\n",
        "# On spécifie la fonction de perte, l'optimiseur, et la fonction d'évaluation\n",
        "model_rnn_simple.compile(loss='binary_crossentropy', optimizer='adam', metrics=['accuracy'])\n"
      ],
      "execution_count": 245,
      "outputs": [
        {
          "output_type": "stream",
          "name": "stdout",
          "text": [
            "Model: \"sequential_61\"\n",
            "_________________________________________________________________\n",
            "Layer (type)                 Output Shape              Param #   \n",
            "=================================================================\n",
            "embedding_61 (Embedding)     (None, None, 128)         640000    \n",
            "_________________________________________________________________\n",
            "simple_rnn_7 (SimpleRNN)     (None, 64)                12352     \n",
            "_________________________________________________________________\n",
            "dropout_30 (Dropout)         (None, 64)                0         \n",
            "_________________________________________________________________\n",
            "dense_81 (Dense)             (None, 1)                 65        \n",
            "=================================================================\n",
            "Total params: 652,417\n",
            "Trainable params: 652,417\n",
            "Non-trainable params: 0\n",
            "_________________________________________________________________\n"
          ]
        }
      ]
    },
    {
      "cell_type": "markdown",
      "metadata": {
        "id": "LMDSWB90j2tt"
      },
      "source": [
        "## 4. Entrainement du réseau"
      ]
    },
    {
      "cell_type": "code",
      "metadata": {
        "scrolled": true,
        "colab": {
          "base_uri": "https://localhost:8080/"
        },
        "id": "d3r5Swu9j2tt",
        "outputId": "584dcae5-cb5e-4e63-d063-7911238a042f"
      },
      "source": [
        "# On entraine le réseau\n",
        "batch_size = 64                                                             # tailles des mini-batch\n",
        "epochs = 10                                                                 # nombre d'époques\n",
        "history_rnn_simple = model_rnn_simple.fit(x_train,y_train, batch_size=batch_size, epochs=epochs, validation_split=0.2) # on entraine"
      ],
      "execution_count": null,
      "outputs": [
        {
          "output_type": "stream",
          "name": "stdout",
          "text": [
            "Epoch 1/10\n",
            "35/35 [==============================] - 3s 59ms/step - loss: 2.2465 - accuracy: 0.5095 - val_loss: 0.8804 - val_accuracy: 0.5712\n",
            "Epoch 2/10\n",
            "35/35 [==============================] - 2s 51ms/step - loss: 1.0578 - accuracy: 0.6231 - val_loss: 0.7969 - val_accuracy: 0.5820\n",
            "Epoch 3/10\n",
            "35/35 [==============================] - 2s 51ms/step - loss: 0.4841 - accuracy: 0.7800 - val_loss: 0.7368 - val_accuracy: 0.5748\n",
            "Epoch 4/10\n",
            "35/35 [==============================] - 2s 51ms/step - loss: 0.2115 - accuracy: 0.9261 - val_loss: 1.1926 - val_accuracy: 0.5333\n",
            "Epoch 5/10\n",
            "35/35 [==============================] - 2s 55ms/step - loss: 0.0698 - accuracy: 0.9892 - val_loss: 1.6880 - val_accuracy: 0.5441\n",
            "Epoch 6/10\n",
            "35/35 [==============================] - 2s 49ms/step - loss: 0.0200 - accuracy: 0.9986 - val_loss: 2.0130 - val_accuracy: 0.5514\n",
            "Epoch 7/10\n",
            "35/35 [==============================] - 2s 50ms/step - loss: 0.0081 - accuracy: 1.0000 - val_loss: 2.1822 - val_accuracy: 0.5640\n",
            "Epoch 8/10\n",
            "35/35 [==============================] - 2s 50ms/step - loss: 0.0059 - accuracy: 0.9995 - val_loss: 2.2335 - val_accuracy: 0.5514\n",
            "Epoch 9/10\n",
            "35/35 [==============================] - 2s 50ms/step - loss: 0.0041 - accuracy: 1.0000 - val_loss: 2.4013 - val_accuracy: 0.5441\n",
            "Epoch 10/10\n",
            "35/35 [==============================] - 2s 50ms/step - loss: 0.0025 - accuracy: 1.0000 - val_loss: 2.4748 - val_accuracy: 0.5568\n"
          ]
        }
      ]
    },
    {
      "cell_type": "code",
      "metadata": {
        "colab": {
          "base_uri": "https://localhost:8080/",
          "height": 573
        },
        "id": "GaA4Vx2roRHx",
        "outputId": "db598fac-b639-4c4a-98c2-494a294d4acd"
      },
      "source": [
        "plot_history(history_rnn_simple)"
      ],
      "execution_count": null,
      "outputs": [
        {
          "output_type": "display_data",
          "data": {
            "image/png": "[encoded data removed]",
            "text/plain": [
              "<Figure size 432x288 with 1 Axes>"
            ]
          },
          "metadata": {
            "needs_background": "light"
          }
        },
        {
          "output_type": "display_data",
          "data": {
            "image/png": "[encoded data removed]",
            "text/plain": [
              "<Figure size 432x288 with 1 Axes>"
            ]
          },
          "metadata": {
            "needs_background": "light"
          }
        }
      ]
    },
    {
      "cell_type": "code",
      "metadata": {
        "id": "kCDU-gito3bl"
      },
      "source": [
        "y_pred=predict(model_rnn_simple)"
      ],
      "execution_count": null,
      "outputs": []
    },
    {
      "cell_type": "code",
      "metadata": {
        "colab": {
          "base_uri": "https://localhost:8080/"
        },
        "id": "7tDluxcAj2tu",
        "outputId": "8d9fbf07-3329-4599-909f-152285bbbb16"
      },
      "source": [
        "# On importe les librairies pour l'évaluation\n",
        "from sklearn.metrics import accuracy_score \n",
        "from sklearn.metrics import confusion_matrix\n",
        "\n",
        "# On calcule la matrice de confusion\n",
        "cm_test = confusion_matrix(y_test, y_pred)\n",
        "print('La matrice de confusion sur le jeu de test :\\n', cm_test, '\\n')\n",
        "\n",
        "# On calcul le score d accuracy\n",
        "acc_train=accuracy_score(y_test, y_pred)\n",
        "print('L accuracy sur le jeu de test est :\\n', acc_train)\n"
      ],
      "execution_count": null,
      "outputs": [
        {
          "output_type": "stream",
          "name": "stdout",
          "text": [
            "La matrice de confusion sur le jeu de test :\n",
            " [[ 236 1123]\n",
            " [ 177 1427]] \n",
            "\n",
            "L accuracy sur le jeu de test est :\n",
            " 0.5612554843064461\n"
          ]
        }
      ]
    },
    {
      "cell_type": "markdown",
      "metadata": {
        "id": "dxsxTljC0Cpb"
      },
      "source": [
        "Comments : \n",
        "- l'accuracy n'est pas tres tres bonne, on remarque sur la matrice de confusion que nos données test ne sont pas tres bien predit ( 143 + 1025 ) sur l'ensemble de test qui sont mal classé . \n",
        "- notre model overfitt rapidement, ce qui fait qu'on ne peux pas l'entrainer plus. \n",
        "\n",
        "Tous les RNN ont des boucles de rétroaction dans la couche récurrente. Cela leur permet de conserver des informations en « mémoire » au fil du temps. Mais, il peut être difficile de former des RNN standard pour résoudre des problèmes qui nécessitent l'apprentissage de dépendances temporelles à long terme. C'est parce que le gradient de la fonction de perte décroît de façon exponentielle avec le temps  (problème de fuite de gradient)"
      ]
    },
    {
      "cell_type": "markdown",
      "metadata": {
        "id": "6QbcGGkLkpwh"
      },
      "source": [
        "# RNN-LSTM gauche-droite classique "
      ]
    },
    {
      "cell_type": "code",
      "metadata": {
        "colab": {
          "base_uri": "https://localhost:8080/"
        },
        "id": "ZtoV899LnLsA",
        "outputId": "2e96dcc5-b8ce-44d0-953b-dc7c72900911"
      },
      "source": [
        "embed_size = 128                                                   # dimension de l'embedding\n",
        "RNN_size   = 64\n",
        "\n",
        "# Example d'architecture pour le réseau RNN simple avec dropout\n",
        "model_lstm = Sequential()\n",
        "model_lstm.add(Embedding(num_words, embed_size))                 # layer embedding\n",
        "model_lstm.add(LSTM(RNN_size,return_sequences = False))          # layer lstm\n",
        "#model_lstm.add(Dropout(0.25))                                    # layer Dropout\n",
        "model_lstm.add(Dense(1))                                         # layer Dense\n",
        "\n",
        "# On affiche l'architecture de notre modèle\n",
        "model_lstm.summary()\n",
        "\n",
        "# On spécifie la fonction de perte, l'optimiseur, et la fonction d'évaluation\n",
        "model_lstm.compile(loss='binary_crossentropy', optimizer='adam', metrics=['accuracy'])"
      ],
      "execution_count": null,
      "outputs": [
        {
          "output_type": "stream",
          "name": "stdout",
          "text": [
            "Model: \"sequential_18\"\n",
            "_________________________________________________________________\n",
            "Layer (type)                 Output Shape              Param #   \n",
            "=================================================================\n",
            "embedding_18 (Embedding)     (None, None, 128)         640000    \n",
            "_________________________________________________________________\n",
            "lstm_15 (LSTM)               (None, 64)                49408     \n",
            "_________________________________________________________________\n",
            "dense_18 (Dense)             (None, 1)                 65        \n",
            "=================================================================\n",
            "Total params: 689,473\n",
            "Trainable params: 689,473\n",
            "Non-trainable params: 0\n",
            "_________________________________________________________________\n"
          ]
        }
      ]
    },
    {
      "cell_type": "code",
      "metadata": {
        "colab": {
          "base_uri": "https://localhost:8080/"
        },
        "id": "Kb1PMC2wn_mg",
        "outputId": "184ac983-65a1-424b-c4e6-81ad14cfa390"
      },
      "source": [
        "# On entraine le réseau\n",
        "batch_size = 32                                                             # tailles des mini-batch\n",
        "epochs = 10                                                                 # nombre d'époques\n",
        "history_lstm = model_lstm.fit(x_train,y_train, batch_size=batch_size, epochs=epochs, validation_split=0.2) # on entraine"
      ],
      "execution_count": null,
      "outputs": [
        {
          "output_type": "stream",
          "name": "stdout",
          "text": [
            "Epoch 1/10\n",
            "70/70 [==============================] - 9s 94ms/step - loss: 0.8225 - accuracy: 0.5956 - val_loss: 0.6222 - val_accuracy: 0.6667\n",
            "Epoch 2/10\n",
            "70/70 [==============================] - 6s 85ms/step - loss: 0.4440 - accuracy: 0.8638 - val_loss: 0.9307 - val_accuracy: 0.8234\n",
            "Epoch 3/10\n",
            "70/70 [==============================] - 6s 87ms/step - loss: 0.3081 - accuracy: 0.9360 - val_loss: 0.6719 - val_accuracy: 0.8288\n",
            "Epoch 4/10\n",
            "70/70 [==============================] - 6s 85ms/step - loss: 0.2751 - accuracy: 0.9626 - val_loss: 1.1675 - val_accuracy: 0.8072\n",
            "Epoch 5/10\n",
            "70/70 [==============================] - 6s 86ms/step - loss: 0.1459 - accuracy: 0.9869 - val_loss: 1.2890 - val_accuracy: 0.8270\n",
            "Epoch 6/10\n",
            "70/70 [==============================] - 6s 86ms/step - loss: 0.1321 - accuracy: 0.9914 - val_loss: 1.4543 - val_accuracy: 0.8288\n",
            "Epoch 7/10\n",
            "70/70 [==============================] - 6s 86ms/step - loss: 0.1312 - accuracy: 0.9914 - val_loss: 1.5897 - val_accuracy: 0.8324\n",
            "Epoch 8/10\n",
            "70/70 [==============================] - 6s 87ms/step - loss: 0.1311 - accuracy: 0.9914 - val_loss: 1.4135 - val_accuracy: 0.8180\n",
            "Epoch 9/10\n",
            "70/70 [==============================] - 6s 88ms/step - loss: 0.3826 - accuracy: 0.9360 - val_loss: 1.6428 - val_accuracy: 0.8126\n",
            "Epoch 10/10\n",
            "70/70 [==============================] - 6s 86ms/step - loss: 0.2008 - accuracy: 0.9707 - val_loss: 1.5050 - val_accuracy: 0.8126\n"
          ]
        }
      ]
    },
    {
      "cell_type": "code",
      "metadata": {
        "colab": {
          "base_uri": "https://localhost:8080/",
          "height": 573
        },
        "id": "VLcNnTM-oE8Z",
        "outputId": "566d1a6d-ef15-4b7d-dc34-4489d6a949db"
      },
      "source": [
        "plot_history(history_lstm)"
      ],
      "execution_count": null,
      "outputs": [
        {
          "output_type": "display_data",
          "data": {
            "image/png": "[encoded data removed]",
            "text/plain": [
              "<Figure size 432x288 with 1 Axes>"
            ]
          },
          "metadata": {
            "needs_background": "light"
          }
        },
        {
          "output_type": "display_data",
          "data": {
            "image/png": "[encoded data removed]",
            "text/plain": [
              "<Figure size 432x288 with 1 Axes>"
            ]
          },
          "metadata": {
            "needs_background": "light"
          }
        }
      ]
    },
    {
      "cell_type": "code",
      "metadata": {
        "id": "YPRDHs-AoE2G"
      },
      "source": [
        "y_pred=predict(model_lstm)"
      ],
      "execution_count": null,
      "outputs": []
    },
    {
      "cell_type": "code",
      "metadata": {
        "colab": {
          "base_uri": "https://localhost:8080/"
        },
        "id": "ifPEcrXCri2N",
        "outputId": "b61c0999-19ef-4f8c-f6c9-1e31576710d9"
      },
      "source": [
        "# On importe les librairies pour l'évaluation\n",
        "from sklearn.metrics import accuracy_score \n",
        "from sklearn.metrics import confusion_matrix\n",
        "\n",
        "# On calcule la matrice de confusion\n",
        "cm_test = confusion_matrix(y_test, y_pred)\n",
        "print('La matrice de confusion sur le jeu de test :\\n', cm_test, '\\n')\n",
        "\n",
        "# On calcul le score d accuracy\n",
        "acc_train=accuracy_score(y_test, y_pred)\n",
        "print('L accuracy sur le jeu de test est :\\n', acc_train)"
      ],
      "execution_count": null,
      "outputs": [
        {
          "output_type": "stream",
          "name": "stdout",
          "text": [
            "La matrice de confusion sur le jeu de test :\n",
            " [[ 794  565]\n",
            " [ 119 1485]] \n",
            "\n",
            "L accuracy sur le jeu de test est :\n",
            " 0.7691528855889301\n"
          ]
        }
      ]
    },
    {
      "cell_type": "markdown",
      "metadata": {
        "id": "GKA9vLSKxZbV"
      },
      "source": [
        "Comments :\n",
        "-  On a une accuracy bien meilleur avec le LSTM\n",
        "\n",
        "\n",
        "- Les réseaux LSTM sont un type de RNN qui utilise des unités spéciales en plus des unités standard. Les unités LSTM comprennent une « cellule mémoire » qui peut conserver des informations en mémoire pendant de longues périodes. Un ensemble de portes est utilisé pour contrôler quand les informations entrent dans la mémoire, quand elles sont sorties et quand elles sont oubliées. Cette architecture leur permet d'apprendre les dépendances à plus long terme. "
      ]
    },
    {
      "cell_type": "markdown",
      "metadata": {
        "id": "65KABuzVnCH4"
      },
      "source": [
        "# LSTM bi-directionnel et return_sequences = False"
      ]
    },
    {
      "cell_type": "code",
      "metadata": {
        "colab": {
          "base_uri": "https://localhost:8080/"
        },
        "id": "nwyZpOOIj2tu",
        "outputId": "59bae9eb-e02c-44a0-bed9-7e61759a637a"
      },
      "source": [
        "embed_size = 128                                                   # dimension de l'embedding\n",
        "RNN_size   = 64\n",
        "\n",
        "# Example d'architecture pour le réseau RNN simple avec dropout\n",
        "model_bidi = Sequential()\n",
        "model_bidi.add(Embedding(num_words, embed_size))                 # layer embedding\n",
        "model_bidi.add(Bidirectional(LSTM(RNN_size, return_sequences = False)))    # layer RNN\n",
        "#model_bidi.add(Dropout(0.25))                                    # layer Dropout\n",
        "model_bidi.add(Dense(1))                                         # layer Dense\n",
        "\n",
        "# On affiche l'architecture de notre modèle\n",
        "model_bidi.summary()\n",
        "\n",
        "# On spécifie la fonction de perte, l'optimiseur, et la fonction d'évaluation\n",
        "model_bidi.compile(loss='binary_crossentropy', optimizer='adam', metrics=['accuracy'])"
      ],
      "execution_count": null,
      "outputs": [
        {
          "output_type": "stream",
          "name": "stdout",
          "text": [
            "Model: \"sequential_21\"\n",
            "_________________________________________________________________\n",
            "Layer (type)                 Output Shape              Param #   \n",
            "=================================================================\n",
            "embedding_21 (Embedding)     (None, None, 128)         640000    \n",
            "_________________________________________________________________\n",
            "bidirectional_3 (Bidirection (None, 128)               98816     \n",
            "_________________________________________________________________\n",
            "dense_21 (Dense)             (None, 1)                 129       \n",
            "=================================================================\n",
            "Total params: 738,945\n",
            "Trainable params: 738,945\n",
            "Non-trainable params: 0\n",
            "_________________________________________________________________\n"
          ]
        }
      ]
    },
    {
      "cell_type": "code",
      "metadata": {
        "colab": {
          "base_uri": "https://localhost:8080/"
        },
        "id": "kr4BOFwNrYFn",
        "outputId": "9ec58c44-5ccd-4c15-ac7e-13837ceed81d"
      },
      "source": [
        "# On entraine le réseau\n",
        "batch_size = 32                                                            # tailles des mini-batch\n",
        "epochs = 10                                                                 # nombre d'époques\n",
        "history_bidi = model_bidi.fit(x_train,y_train, batch_size=batch_size, epochs=epochs, validation_split=0.2) # on entraine"
      ],
      "execution_count": null,
      "outputs": [
        {
          "output_type": "stream",
          "name": "stdout",
          "text": [
            "Epoch 1/10\n",
            "70/70 [==============================] - 15s 152ms/step - loss: 0.7637 - accuracy: 0.5550 - val_loss: 0.6544 - val_accuracy: 0.6126\n",
            "Epoch 2/10\n",
            "70/70 [==============================] - 10s 143ms/step - loss: 0.4840 - accuracy: 0.8368 - val_loss: 0.5187 - val_accuracy: 0.8162\n",
            "Epoch 3/10\n",
            "70/70 [==============================] - 10s 145ms/step - loss: 0.5272 - accuracy: 0.9197 - val_loss: 0.7102 - val_accuracy: 0.8216\n",
            "Epoch 4/10\n",
            "70/70 [==============================] - 10s 149ms/step - loss: 0.3999 - accuracy: 0.9152 - val_loss: 0.5265 - val_accuracy: 0.7784\n",
            "Epoch 5/10\n",
            "70/70 [==============================] - 10s 144ms/step - loss: 0.2371 - accuracy: 0.9495 - val_loss: 0.8320 - val_accuracy: 0.8541\n",
            "Epoch 6/10\n",
            "70/70 [==============================] - 10s 146ms/step - loss: 0.1679 - accuracy: 0.9536 - val_loss: 0.9056 - val_accuracy: 0.8450\n",
            "Epoch 7/10\n",
            "70/70 [==============================] - 10s 143ms/step - loss: 0.0724 - accuracy: 0.9874 - val_loss: 0.8600 - val_accuracy: 0.8559\n",
            "Epoch 8/10\n",
            "70/70 [==============================] - 10s 144ms/step - loss: 0.0501 - accuracy: 0.9955 - val_loss: 1.0252 - val_accuracy: 0.8541\n",
            "Epoch 9/10\n",
            "70/70 [==============================] - 10s 144ms/step - loss: 0.0442 - accuracy: 0.9973 - val_loss: 1.1360 - val_accuracy: 0.8468\n",
            "Epoch 10/10\n",
            "70/70 [==============================] - 10s 147ms/step - loss: 0.0426 - accuracy: 0.9973 - val_loss: 1.2065 - val_accuracy: 0.8505\n"
          ]
        }
      ]
    },
    {
      "cell_type": "code",
      "metadata": {
        "colab": {
          "base_uri": "https://localhost:8080/",
          "height": 573
        },
        "id": "8L0pZg8mrXkS",
        "outputId": "cd93a6c1-9acf-4316-904f-460302f147bb"
      },
      "source": [
        "plot_history(history_bidi)"
      ],
      "execution_count": null,
      "outputs": [
        {
          "output_type": "display_data",
          "data": {
            "image/png": "[encoded data removed]",
            "text/plain": [
              "<Figure size 432x288 with 1 Axes>"
            ]
          },
          "metadata": {
            "needs_background": "light"
          }
        },
        {
          "output_type": "display_data",
          "data": {
            "image/png": "[encoded data removed]",
            "text/plain": [
              "<Figure size 432x288 with 1 Axes>"
            ]
          },
          "metadata": {
            "needs_background": "light"
          }
        }
      ]
    },
    {
      "cell_type": "code",
      "metadata": {
        "id": "EP2pR3cvrXh8"
      },
      "source": [
        "y_pred=predict(model_bidi)"
      ],
      "execution_count": null,
      "outputs": []
    },
    {
      "cell_type": "code",
      "metadata": {
        "colab": {
          "base_uri": "https://localhost:8080/"
        },
        "id": "93W7k0MZrXfk",
        "outputId": "355cfc5f-7e65-49cb-af66-bf0be8868f6f"
      },
      "source": [
        "# On importe les librairies pour l'évaluation\n",
        "from sklearn.metrics import accuracy_score \n",
        "from sklearn.metrics import confusion_matrix\n",
        "\n",
        "# On calcule la matrice de confusion\n",
        "cm_test = confusion_matrix(y_test, y_pred)\n",
        "print('La matrice de confusion sur le jeu de test :\\n', cm_test, '\\n')\n",
        "\n",
        "# On calcul le score d accuracy\n",
        "acc_train=accuracy_score(y_test, y_pred)\n",
        "print('L accuracy sur le jeu de test est :\\n', acc_train)"
      ],
      "execution_count": null,
      "outputs": [
        {
          "output_type": "stream",
          "name": "stdout",
          "text": [
            "La matrice de confusion sur le jeu de test :\n",
            " [[ 838  521]\n",
            " [  94 1510]] \n",
            "\n",
            "L accuracy sur le jeu de test est :\n",
            " 0.7924400944988188\n"
          ]
        }
      ]
    },
    {
      "cell_type": "markdown",
      "metadata": {
        "id": "iDDingcLzFXB"
      },
      "source": [
        "L'accuracy est un peu plus meilleur que pour les LSTM bi\n",
        "\n",
        "L'utilisation de la bidirectionnelle exécutera nos entrées de deux manières, l'une du passé au futur et l'autre du futur au passé. Ce qui fait la difference avec les LSTM normal qui sont capables à tout moment de préserver les informations du passé et du futur.\n",
        "\n"
      ]
    },
    {
      "cell_type": "markdown",
      "metadata": {
        "id": "e-CCd_x0nZBr"
      },
      "source": [
        "# Plusieurs couches LSTM."
      ]
    },
    {
      "cell_type": "code",
      "metadata": {
        "colab": {
          "base_uri": "https://localhost:8080/"
        },
        "id": "I-IbZE1inAEW",
        "outputId": "c825cab0-416e-4662-aab7-ac9eb8cc4ccf"
      },
      "source": [
        "embed_size = 64                                                 # dimension de l'embedding\n",
        "RNN_size   = 64\n",
        "\n",
        "model = Sequential()\n",
        "model.add(Embedding(num_words, embed_size, mask_zero=True))   \n",
        "model.add(Bidirectional(LSTM(RNN_size,return_sequences=True)))\n",
        "model.add(Bidirectional(LSTM(32)))\n",
        "model.add(Dense(64,activation='relu'))\n",
        "model.add(Dropout(0.5))\n",
        "model.add(Dense(1))\n",
        "\n",
        "\n",
        "model.summary()\n",
        "# On spécifie la fonction de perte, l'optimiseur, et la fonction d'évaluation\n",
        "model.compile(loss=BinaryCrossentropy(from_logits=True),\n",
        "              optimizer=Adam(1e-4),\n",
        "              metrics=['accuracy'])"
      ],
      "execution_count": 279,
      "outputs": [
        {
          "output_type": "stream",
          "name": "stdout",
          "text": [
            "Model: \"sequential_72\"\n",
            "_________________________________________________________________\n",
            "Layer (type)                 Output Shape              Param #   \n",
            "=================================================================\n",
            "embedding_72 (Embedding)     (None, None, 64)          320000    \n",
            "_________________________________________________________________\n",
            "bidirectional_49 (Bidirectio (None, None, 128)         66048     \n",
            "_________________________________________________________________\n",
            "bidirectional_50 (Bidirectio (None, 64)                41216     \n",
            "_________________________________________________________________\n",
            "dense_102 (Dense)            (None, 64)                4160      \n",
            "_________________________________________________________________\n",
            "dropout_41 (Dropout)         (None, 64)                0         \n",
            "_________________________________________________________________\n",
            "dense_103 (Dense)            (None, 1)                 65        \n",
            "=================================================================\n",
            "Total params: 431,489\n",
            "Trainable params: 431,489\n",
            "Non-trainable params: 0\n",
            "_________________________________________________________________\n"
          ]
        }
      ]
    },
    {
      "cell_type": "code",
      "metadata": {
        "colab": {
          "base_uri": "https://localhost:8080/"
        },
        "id": "VyQ8jHXU5XA3",
        "outputId": "0d29944e-1b42-4924-8b4e-462e1cf4be5e"
      },
      "source": [
        "history = model.fit(x_train,y_train, epochs=10,\n",
        "                    validation_data=(x_test,y_test),\n",
        "                    validation_steps=30)"
      ],
      "execution_count": 280,
      "outputs": [
        {
          "output_type": "stream",
          "name": "stdout",
          "text": [
            "Epoch 1/10\n",
            "87/87 [==============================] - 49s 378ms/step - loss: 0.6906 - accuracy: 0.4457 - val_loss: 0.6888 - val_accuracy: 0.4587\n",
            "Epoch 2/10\n",
            "87/87 [==============================] - 28s 321ms/step - loss: 0.6818 - accuracy: 0.4464 - val_loss: 0.6774 - val_accuracy: 0.4587\n",
            "Epoch 3/10\n",
            "87/87 [==============================] - 28s 318ms/step - loss: 0.5963 - accuracy: 0.6740 - val_loss: 0.5232 - val_accuracy: 0.7503\n",
            "Epoch 4/10\n",
            "87/87 [==============================] - 28s 319ms/step - loss: 0.3678 - accuracy: 0.8695 - val_loss: 0.4147 - val_accuracy: 0.8367\n",
            "Epoch 5/10\n",
            "87/87 [==============================] - 28s 321ms/step - loss: 0.2180 - accuracy: 0.9264 - val_loss: 0.3762 - val_accuracy: 0.8296\n",
            "Epoch 6/10\n",
            "87/87 [==============================] - 28s 320ms/step - loss: 0.1354 - accuracy: 0.9571 - val_loss: 0.4249 - val_accuracy: 0.8512\n",
            "Epoch 7/10\n",
            "87/87 [==============================] - 28s 318ms/step - loss: 0.0832 - accuracy: 0.9798 - val_loss: 0.4795 - val_accuracy: 0.8522\n",
            "Epoch 8/10\n",
            "87/87 [==============================] - 28s 323ms/step - loss: 0.0614 - accuracy: 0.9870 - val_loss: 0.5980 - val_accuracy: 0.8414\n",
            "Epoch 9/10\n",
            "87/87 [==============================] - 28s 320ms/step - loss: 0.0484 - accuracy: 0.9913 - val_loss: 0.5935 - val_accuracy: 0.8512\n",
            "Epoch 10/10\n",
            "87/87 [==============================] - 28s 321ms/step - loss: 0.0360 - accuracy: 0.9946 - val_loss: 0.6367 - val_accuracy: 0.8508\n"
          ]
        }
      ]
    },
    {
      "cell_type": "code",
      "metadata": {
        "colab": {
          "base_uri": "https://localhost:8080/",
          "height": 573
        },
        "id": "XiOwnhmHnXyY",
        "outputId": "a4be9226-c9d4-4306-853e-b99957271713"
      },
      "source": [
        "plot_history(history)"
      ],
      "execution_count": 281,
      "outputs": [
        {
          "output_type": "display_data",
          "data": {
            "image/png": "[encoded data removed]",
            "text/plain": [
              "<Figure size 432x288 with 1 Axes>"
            ]
          },
          "metadata": {
            "needs_background": "light"
          }
        },
        {
          "output_type": "display_data",
          "data": {
            "image/png": "[encoded data removed]",
            "text/plain": [
              "<Figure size 432x288 with 1 Axes>"
            ]
          },
          "metadata": {
            "needs_background": "light"
          }
        }
      ]
    },
    {
      "cell_type": "code",
      "metadata": {
        "id": "iHNPA8-UnXv4"
      },
      "source": [
        "y_pred=predict(model)"
      ],
      "execution_count": 282,
      "outputs": []
    },
    {
      "cell_type": "code",
      "metadata": {
        "colab": {
          "base_uri": "https://localhost:8080/"
        },
        "id": "Ujusw8aBnXtk",
        "outputId": "e1bbc919-0cd4-4ab7-b716-38ee3e40b490"
      },
      "source": [
        "# On importe les librairies pour l'évaluation\n",
        "from sklearn.metrics import accuracy_score \n",
        "from sklearn.metrics import confusion_matrix\n",
        "\n",
        "# On calcule la matrice de confusion\n",
        "cm_test = confusion_matrix(y_test, y_pred)\n",
        "print('La matrice de confusion sur le jeu de test :\\n', cm_test, '\\n')\n",
        "\n",
        "# On calcul le score d accuracy\n",
        "acc_train=accuracy_score(y_test, y_pred)\n",
        "print('L accuracy sur le jeu de test est :\\n', acc_train)"
      ],
      "execution_count": 283,
      "outputs": [
        {
          "output_type": "stream",
          "name": "stdout",
          "text": [
            "La matrice de confusion sur le jeu de test :\n",
            " [[1049  310]\n",
            " [ 144 1460]] \n",
            "\n",
            "L accuracy sur le jeu de test est :\n",
            " 0.8467769152885589\n"
          ]
        }
      ]
    },
    {
      "cell_type": "code",
      "metadata": {
        "id": "9_IF_6cqzscv"
      },
      "source": [
        ""
      ],
      "execution_count": null,
      "outputs": []
    }
  ]
}
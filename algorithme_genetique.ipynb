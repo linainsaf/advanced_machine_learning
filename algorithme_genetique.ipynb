{
  "nbformat": 4,
  "nbformat_minor": 0,
  "metadata": {
    "kernelspec": {
      "name": "python3",
      "display_name": "Python 3"
    },
    "colab": {
      "name": "algorithme_genetique.ipynb",
      "provenance": [],
      "collapsed_sections": [],
      "include_colab_link": true
    }
  },
  "cells": [
    {
      "cell_type": "markdown",
      "metadata": {
        "id": "view-in-github",
        "colab_type": "text"
      },
      "source": [
        "<a href=\"https://colab.research.google.com/github/linainsaf/advanced_machine_learning/blob/main/algorithme_genetique.ipynb\" target=\"_parent\"><img src=\"https://colab.research.google.com/assets/colab-badge.svg\" alt=\"Open In Colab\"/></a>"
      ]
    },
    {
      "cell_type": "markdown",
      "metadata": {
        "id": "ZocxIod4xrok"
      },
      "source": [
        "# Algorithme génétique pour le problème du max-one\n",
        "\n",
        "*nicolas.bredeche(at)upmc.fr*\n",
        "\n",
        "Mise à jour: \n",
        "* 2017-03-20 - première version (avec A. Pajot et P. Ecoffet)\n",
        "* 2018-03-29 - ajout d'une représentation graphique, découpage en cellule\n",
        "* 2020-12-06 - passage en Python 3.x\n",
        "* 2020-12-10 - révision majeure MU4RBI04\n",
        "\n",
        "<!--`print()`-->"
      ]
    },
    {
      "cell_type": "markdown",
      "metadata": {
        "id": "VYpsIqE67oRf"
      },
      "source": [
        "---\n",
        "\n",
        "Ce notebook décrit un algorithme génétique basique, qui est illustré sur le problème classique du *max-one*. \n",
        "\n",
        "La première partie définit les fonctions utiles pour l'algorithme, et se conclut par une cellule contenant un \"**Exemple introductif**\" qui montre comment l'utiliser. \n",
        "\n",
        "La seconde partie contient les questions à répondre. Il s'agit dans un premier temps d'utiliser l'algorithme définit auparavant en changeant ses paramètres. Dans un second temps, vous devrez ajouter des opérateurs (de sélection, de variation). Enfin, il s'agira d'aborder un nouveau problème, qui demande de réflechir à la structure du génome et sa conséquence sur les opérateurs. \n",
        "\n",
        "Pour finir, on abordera un problème important des algorithmes évolutionnaire: la stochasticité, qui implique de faire plusieurs exécutions indépendantes et d'en compiler les résultats pour avoir une bonne estimation en moyenne de la performance de nos algorithmes."
      ]
    },
    {
      "cell_type": "code",
      "metadata": {
        "id": "YRpS_tsoxrol",
        "colab": {
          "base_uri": "https://localhost:8080/"
        },
        "outputId": "3cbb46f5-1e7a-445b-e1b6-dbfbcf64520e"
      },
      "source": [
        "#%matplotlib inline\n",
        "#%load_ext Cython\n",
        "\n",
        "import numpy as np\n",
        "import matplotlib as mpl\n",
        "import matplotlib.pyplot as plt\n",
        "\n",
        "import operator\n",
        "import copy\n",
        "\n",
        "import os\n",
        "from datetime import datetime\n",
        "from datetime import date\n",
        "\n",
        "import seaborn as sns\n",
        "sns.set()\n",
        "\n",
        "from random import random, randint, sample, choice\n",
        "\n",
        "print(date.today(), datetime.now().strftime(\"%H:%M:%S\"),\"GMT\") # timestamp is greenwich time\n",
        "print(\"OK.\")"
      ],
      "execution_count": null,
      "outputs": [
        {
          "output_type": "stream",
          "text": [
            "2021-01-15 21:27:12 GMT\n",
            "OK.\n"
          ],
          "name": "stdout"
        }
      ]
    },
    {
      "cell_type": "markdown",
      "metadata": {
        "id": "hz75nFvC6BP7"
      },
      "source": [
        "---\n",
        "\n",
        "# Initialisation et défitions de fonctions d'affichage\n",
        "\n",
        "Remarque: *il n'est pas nécessaire d'étudier le code de cette partie (importation des librairies et définition de fonction pour l'affichage)*"
      ]
    },
    {
      "cell_type": "code",
      "metadata": {
        "id": "EDF5zne5xrom",
        "colab": {
          "base_uri": "https://localhost:8080/"
        },
        "outputId": "e8d78247-17b9-40d4-eff1-61f79894d1a8"
      },
      "source": [
        "# Graph-related functions\n",
        "\n",
        "def plot(x,y,xMin,xMax,yMin,yMax):\n",
        "    colors = \"red\" #np.random.rand(len(x))\n",
        "    area = np.pi * (5 * np.ones(1))**2\n",
        "    plt.xlim(xMin, xMax)\n",
        "    plt.ylim(yMin, yMax)\n",
        "    plt.scatter( np.asarray(x), np.asarray(y), s=area, c=colors, alpha=0.5)\n",
        "    plt.show()\n",
        "    \n",
        "def plotIndividuals(datapop,xMin=0,xMax=1,yMin=0,yMax=1):\n",
        "    xCoord = []\n",
        "    yCoord = []\n",
        "    \n",
        "    for e in datapop:\n",
        "        xCoord.append(e[0])\n",
        "        yCoord.append(e[1])\n",
        "    \n",
        "    plot(xCoord,yCoord,xMin,xMax,yMin,yMax)\n",
        "\n",
        "print(date.today(), datetime.now().strftime(\"%H:%M:%S\"),\"GMT\") # timestamp is greenwich time\n",
        "print(\"OK.\")"
      ],
      "execution_count": null,
      "outputs": [
        {
          "output_type": "stream",
          "text": [
            "2021-01-15 16:14:18 GMT\n",
            "OK.\n"
          ],
          "name": "stdout"
        }
      ]
    },
    {
      "cell_type": "markdown",
      "metadata": {
        "id": "YtvGzM9JscHM"
      },
      "source": [
        "---\n",
        "\n",
        "# Algorithme génétique : fonction objectif pour le problème du *max-one*\n",
        "\n",
        "Nous définissons ici le **problème du max-one**, pour lequel le score (=la fitness) est d'autant plus élevé que le nombre de bits dans le génome vaut 1. \n",
        "\n",
        "**Données du problème**\n",
        "* **représentation**: le génome d'un individu est défini comme une suite finie de 0 et de 1 (i.e. *n* valeurs binaires)\n",
        "* **objectif**: la solution optimale est atteinte lorsque le génome d'un individu est uniquement constitué de 1\n",
        "* **calcul de la fitness**: distance de Hamming entre la solution candidate et la solution optimale (ici: l'objectif est artificiellement fixé comme une suite de 1)\n",
        "\n",
        "Il s'agit là d'un problème *jouet* très utilisé pour étudier la dynamique de l'optimisation.\n"
      ]
    },
    {
      "cell_type": "code",
      "metadata": {
        "id": "kB63N-a4sngv",
        "colab": {
          "base_uri": "https://localhost:8080/"
        },
        "outputId": "05dce3d1-e5d7-4958-90f7-b768ad0f34e8"
      },
      "source": [
        "\n",
        "# renvoie la fitness d'un individu pour le problème max-one\n",
        "def evaluate_oneMaxProblem(genome):\n",
        "    fitness = 0\n",
        "    for e in genome:\n",
        "        if e == 1:\n",
        "            fitness = fitness + 1\n",
        "    return fitness\n",
        "\n",
        "print(date.today(), datetime.now().strftime(\"%H:%M:%S\"),\"GMT\") # timestamp is greenwich time\n",
        "print(\"OK.\")"
      ],
      "execution_count": null,
      "outputs": [
        {
          "output_type": "stream",
          "text": [
            "2021-01-15 16:14:20 GMT\n",
            "OK.\n"
          ],
          "name": "stdout"
        }
      ]
    },
    {
      "cell_type": "markdown",
      "metadata": {
        "id": "4Oj1IsuBa69R"
      },
      "source": [
        "# Algorithme génétique : opérateurs\n",
        "\n",
        "\n",
        "On suivra la convention suivante pour les structures de données: \n",
        "*   un *individu* est un tableau qui comprend dans sa première case un *génome* (ici: une suite de valeurs binaires) et dans sa seconde case une *fitness* (c'est à dire son score, à calculer en fonction du problème à résoudre).\n",
        "*   une *population* est une liste qui contient des *individus*\n",
        "\n",
        "On définit dans la cellule qui suit:\n",
        "\n",
        "*   un opérateur de mutation (bitflip mutation)\n",
        "*   un opérateur de sélection (tournament selection, de taille *k*)\n",
        "*   une fonction qui renvoie le meilleur individu d'une population\n"
      ]
    },
    {
      "cell_type": "code",
      "metadata": {
        "id": "PBakzelnbMRv",
        "colab": {
          "base_uri": "https://localhost:8080/"
        },
        "outputId": "36960b83-304e-4d84-8ef9-5f3af8614d6d"
      },
      "source": [
        "# renvoie une copie mutée de l'individu passé en paramètre, selon la méthode de mutation \"bit-flip\"\n",
        "def mutateBitFlip(individu,pMutation):\n",
        "    nouvelIndividu = []\n",
        "    for e in individu:\n",
        "        if random() < pMutation:\n",
        "            nouvelIndividu.append( (e + 1) % 2 )\n",
        "        else:\n",
        "            nouvelIndividu.append( e )\n",
        "    return nouvelIndividu\n",
        "\n",
        "# renvoie un individu sélectionné selon méthode du tournoi (de taille k)\n",
        "def selectTournament(pop,k):\n",
        "    # sélectionne K individus (au hasard) pour le tournoi\n",
        "    tournoi = sample(list(range(len(pop))),k) # renvoi les index de K individus parmis N\n",
        "    # sélectionne le meilleur parmis les K individus (classe par ordre croissant, renvoi le dernier élément selon le fitness)\n",
        "    parent = pop[ sorted(tournoi, key=lambda x:pop[x][1])[-1] ][0]\n",
        "    return parent\n",
        "\n",
        "# renvoie le meilleu individu de la population passée en paramètre\n",
        "def returnBestIndividual(pop):\n",
        "    meilleureFitness = 0\n",
        "    meilleurGenome = []\n",
        "    for individu in pop:\n",
        "        if individu[1] > meilleureFitness:\n",
        "            meilleureFitness = individu[1]\n",
        "            meilleurGenome = individu[0]\n",
        "    return [meilleurGenome,meilleureFitness]\n",
        "\n",
        "print(date.today(), datetime.now().strftime(\"%H:%M:%S\"),\"GMT\") # timestamp is greenwich time\n",
        "print(\"OK.\")"
      ],
      "execution_count": null,
      "outputs": [
        {
          "output_type": "stream",
          "text": [
            "2021-01-15 16:14:21 GMT\n",
            "OK.\n"
          ],
          "name": "stdout"
        }
      ]
    },
    {
      "cell_type": "markdown",
      "metadata": {
        "id": "zbl3MRJ16WhW"
      },
      "source": [
        "# Algorithme génétique: boucle d'évolution (fonction principale)\n",
        "\n",
        "La fonction *evolve* décrit la boucle principale de l'algorithme génétique. Elle est générique, dans le sens ou on doit lui fournir l'opérateur de sélection de parent, l'opérateur de mutation et l'opérateur d'évaluation. \n",
        "\n",
        "Etudiez son fonctionnement. Nous l'utiliserons dans la cellule suivante.\n",
        "\n",
        "Remarque: la variable *verbose* permet d'afficher plus (si True) ou moins (si False) de détails. *italicized text*"
      ]
    },
    {
      "cell_type": "code",
      "metadata": {
        "id": "CHDobw-mlZbd",
        "colab": {
          "base_uri": "https://localhost:8080/"
        },
        "outputId": "fa23620f-edce-45f6-ee84-10bedc28da73"
      },
      "source": [
        "#\n",
        "# Boucle principale de l'algorithme génétique\n",
        "#\n",
        "\n",
        "def evolve(pop,evals,taillePop,evaluate,select,mutate,pMutation,verbose=False):\n",
        "  it = 0\n",
        "  nbGen = 0\n",
        "  data = []\n",
        "\n",
        "  meilleurIndividuDepuisToujours = [[],0]\n",
        "\n",
        "  while it + taillePop <= evals:\n",
        "\n",
        "      if verbose == True:\n",
        "          print (\"# Generation\", nbGen,\":\",)\n",
        "\n",
        "      # évalue les indivibdus\n",
        "\n",
        "      for individu in pop:\n",
        "          individu[1] = evaluate(individu[0])\n",
        "\n",
        "      # mémorise le meilleur de la génération\n",
        "      meilleurIndividu = returnBestIndividual(pop)\n",
        "      data.append([it+taillePop,meilleurIndividu[1]])\n",
        "\n",
        "      # met à jour, si nécessaire, le meilleur individu depuis le début\n",
        "      if meilleurIndividu[1] > meilleurIndividuDepuisToujours[1]:\n",
        "        meilleurIndividuDepuisToujours = meilleurIndividu[:]\n",
        "        meilleurIteration = it # donne l'itération correspondant au début de la génération courante.\n",
        "\n",
        "      if verbose == True:\n",
        "        print (\"\\tMeilleur individu courant:\",meilleurIndividu[0],\" -- fitness:\",meilleurIndividu[1])\n",
        "\n",
        "      # construit une nouvelle population\n",
        "\n",
        "      nouvellePopulation = []\n",
        "\n",
        "      for i in range(taillePop):\n",
        "\n",
        "          parent = select(pop,tailleTournoi)\n",
        "\n",
        "          # crée un nouvel individu par mutation de l'individu parent, et ajoute à la nouvelle population\n",
        "          nouvelIndividu = mutate(parent,Pmutation)\n",
        "\n",
        "          #print (\"\\tParent:\", parent)\n",
        "          #print (\"\\tchild :\",nouvelIndividu) \n",
        "\n",
        "          nouvellePopulation.append([nouvelIndividu,0])\n",
        "\n",
        "      # passe a la génération suivante\n",
        "\n",
        "      pop = nouvellePopulation[:]\n",
        "\n",
        "      it = it + taillePop\n",
        "      nbGen += 1\n",
        "\n",
        "  return (data,meilleurIndividuDepuisToujours,meilleurIteration)\n",
        "\n",
        "print(date.today(), datetime.now().strftime(\"%H:%M:%S\"),\"GMT\") # timestamp is greenwich time\n",
        "print(\"OK.\")"
      ],
      "execution_count": null,
      "outputs": [
        {
          "output_type": "stream",
          "text": [
            "2021-01-15 16:14:21 GMT\n",
            "OK.\n"
          ],
          "name": "stdout"
        }
      ]
    },
    {
      "cell_type": "markdown",
      "metadata": {
        "id": "4t_BHI4ArHwV"
      },
      "source": [
        "# Exemple introductif: optimisation sur le problème max-one\n",
        "\n",
        "Nous allons utiliser un algorithme génétique simple pour résoudre le problème du max-one.\n",
        "\n",
        "L'algorithme génétique que nous utilisons est défini comme suit:\n",
        "\n",
        "* **représentation**: le *génome* d'un individu est représenté par une suite de bits (0 ou 1). \n",
        "* **opérateurs**: nous utilisons une sélection par tournoi et un seul opérateur de variation: la mutation \"bit-flip\" vue en cours.\n",
        "\n"
      ]
    },
    {
      "cell_type": "code",
      "metadata": {
        "id": "h34UYressTV9",
        "colab": {
          "base_uri": "https://localhost:8080/",
          "height": 343
        },
        "outputId": "bed285bf-a1ed-4ad5-9557-62273bcade48"
      },
      "source": [
        "# paramètres \n",
        "\n",
        "evaluations = 1000\n",
        "tailleInd = 100\n",
        "taillePop = 10\n",
        "tailleTournoi = 8\n",
        "Pmutation = 1./tailleInd #1.0/tailleInd\n",
        "verbose = False\n",
        "\n",
        "# initialisation des individus de la population initiale\n",
        "\n",
        "population = []\n",
        "for i in range(taillePop):\n",
        "    individu = []\n",
        "    for j in range(tailleInd):\n",
        "        individu.append( randint(0,1) )\n",
        "    population.append([individu,0]) # N * [ genome[] , fitness ]\n",
        "\n",
        "# exécute l'algorithme génétique\n",
        "\n",
        "retValue = evolve(population,evaluations,taillePop,evaluate_oneMaxProblem,selectTournament,mutateBitFlip,Pmutation,verbose)\n",
        "\n",
        "# affichage des résultats \n",
        "\n",
        "plotIndividuals(retValue[0],0,evaluations,0,tailleInd)\n",
        "\n",
        "print (\"Meilleure genome     :\", retValue[1][0])\n",
        "print (\"Meilleure fitness    :\", retValue[1][1])\n",
        "print (\"trouvé à l'itération :\", retValue[2])\n",
        "\n"
      ],
      "execution_count": null,
      "outputs": [
        {
          "output_type": "display_data",
          "data": {
            "image/png": "[encoded data removed]",
            "text/plain": [
              "<Figure size 432x288 with 1 Axes>"
            ]
          },
          "metadata": {
            "tags": []
          }
        },
        {
          "output_type": "stream",
          "text": [
            "Meilleure genome     : [1, 1, 1, 1, 1, 1, 1, 1, 1, 1, 1, 1, 1, 1, 1, 1, 1, 1, 1, 1, 1, 1, 1, 1, 1, 1, 1, 1, 1, 1, 1, 1, 1, 1, 1, 1, 1, 1, 1, 1, 1, 1, 1, 1, 1, 1, 0, 1, 1, 1, 1, 1, 1, 1, 1, 1, 1, 1, 1, 1, 1, 1, 1, 1, 1, 1, 0, 1, 1, 1, 1, 1, 1, 1, 1, 1, 1, 1, 1, 1, 1, 1, 1, 1, 1, 1, 1, 1, 1, 1, 1, 1, 1, 1, 1, 1, 1, 1, 1, 1]\n",
            "Meilleure fitness    : 98\n",
            "trouvé à l'itération : 950\n"
          ],
          "name": "stdout"
        }
      ]
    },
    {
      "cell_type": "markdown",
      "metadata": {
        "id": "4XfHCzc6yXJs"
      },
      "source": [
        "---\n",
        "---\n",
        "# TRAVAUX PRATIQUES\n",
        "\n",
        "Préambule: *vous devez répondre à cette question et aux suivantes dans les cellules qui les suivent -- **ne modifiez pas** les cellules précédentes. Vous allez réutiliser certaines fonctions définies précédemment, et vous pourrez vous inspirer du code ci-dessus pour répondre aux questions.*\n",
        "\n",
        "Chaque exercice doit être indépendant. C'est à dire que pour chaque exercice, vous réinitialiserez les valeurs des paramètres à celle définies dans l'exemple ci-dessus, sauf si cela est explicitement demandé."
      ]
    },
    {
      "cell_type": "markdown",
      "metadata": {
        "id": "cReniV7b63TV"
      },
      "source": [
        "\n",
        "\n",
        "\n",
        "---\n",
        "\n",
        "\n",
        "\n",
        "# Exercice 1\n",
        "\n",
        "Etudiez le comportement de l'algorithme lorsque l'on change la taille de la population, pour un même nombre d'évaluations au total. \n",
        "\n",
        "Affichez les résultats pour trois paramètrages \"typiques\" (uniquement le graphe et la valeur du meilleur individu, comme ci-dessus).\n",
        "\n",
        "Qu'en concluez-vous?\n"
      ]
    },
    {
      "cell_type": "code",
      "metadata": {
        "id": "jEp4ZEI864J8",
        "colab": {
          "base_uri": "https://localhost:8080/",
          "height": 955
        },
        "outputId": "c096dc38-c48a-496e-e373-4bac872aaebd"
      },
      "source": [
        "# paramètres \n",
        "for k in range(3,12,3):\n",
        "\n",
        "  evaluations = 1000\n",
        "  tailleInd = 100\n",
        "  taillePop = 10+k\n",
        "  tailleTournoi = 8\n",
        "  Pmutation = 1./tailleInd #1.0/tailleInd\n",
        "  verbose = False\n",
        "\n",
        "  # initialisation des individus de la population initiale\n",
        "\n",
        "  population = []\n",
        "  for i in range(taillePop):\n",
        "      individu = []\n",
        "      for j in range(tailleInd):\n",
        "          individu.append( randint(0,1) )\n",
        "      population.append([individu,0]) # N * [ genome[] , fitness ]\n",
        "\n",
        "  # exécute l'algorithme génétique\n",
        "\n",
        "  retValue = evolve(population,evaluations,taillePop,evaluate_oneMaxProblem,selectTournament,mutateBitFlip,Pmutation,verbose)\n",
        "\n",
        "  # affichage des résultats \n",
        "\n",
        "  plotIndividuals(retValue[0],0,evaluations,0,tailleInd)\n",
        "\n",
        "  print (\"Moyenne Meilleure genome     :\", retValue[1][0])\n",
        "  print (\"Moyenne Meilleure fitness    :\", retValue[1][1])\n",
        "  print(\"taille de la population : \",taillePop)"
      ],
      "execution_count": null,
      "outputs": [
        {
          "output_type": "display_data",
          "data": {
            "image/png": "[encoded data removed]",
            "text/plain": [
              "<Figure size 432x288 with 1 Axes>"
            ]
          },
          "metadata": {
            "tags": []
          }
        },
        {
          "output_type": "stream",
          "text": [
            "Moyenne Meilleure genome     : [0, 1, 1, 1, 1, 1, 1, 1, 1, 1, 1, 1, 1, 1, 1, 1, 1, 1, 1, 1, 1, 1, 1, 0, 1, 1, 1, 1, 1, 1, 1, 1, 1, 1, 1, 1, 1, 1, 1, 1, 1, 1, 1, 1, 1, 1, 1, 1, 1, 1, 1, 0, 1, 1, 1, 1, 1, 1, 1, 1, 1, 1, 0, 1, 1, 1, 1, 1, 1, 1, 1, 1, 1, 1, 1, 1, 1, 1, 1, 1, 1, 1, 1, 1, 1, 1, 1, 1, 1, 1, 1, 1, 1, 1, 1, 1, 1, 1, 1, 1]\n",
            "Moyenne Meilleure fitness    : 96\n",
            "taille de la population :  13\n"
          ],
          "name": "stdout"
        },
        {
          "output_type": "display_data",
          "data": {
            "image/png": "[encoded data removed]",
            "text/plain": [
              "<Figure size 432x288 with 1 Axes>"
            ]
          },
          "metadata": {
            "tags": []
          }
        },
        {
          "output_type": "stream",
          "text": [
            "Moyenne Meilleure genome     : [1, 1, 1, 1, 1, 1, 1, 1, 1, 1, 1, 1, 1, 0, 0, 1, 1, 1, 1, 1, 1, 1, 1, 1, 1, 1, 1, 1, 1, 1, 1, 1, 1, 1, 1, 1, 1, 1, 1, 1, 1, 1, 1, 1, 1, 1, 1, 1, 1, 1, 1, 1, 1, 1, 1, 1, 1, 1, 1, 1, 1, 1, 1, 1, 1, 1, 1, 0, 1, 1, 1, 1, 1, 1, 1, 1, 1, 1, 1, 1, 1, 1, 1, 1, 1, 1, 1, 1, 1, 1, 1, 1, 1, 1, 1, 1, 1, 1, 1, 1]\n",
            "Moyenne Meilleure fitness    : 97\n",
            "taille de la population :  16\n"
          ],
          "name": "stdout"
        },
        {
          "output_type": "display_data",
          "data": {
            "image/png": "[encoded data removed]",
            "text/plain": [
              "<Figure size 432x288 with 1 Axes>"
            ]
          },
          "metadata": {
            "tags": []
          }
        },
        {
          "output_type": "stream",
          "text": [
            "Moyenne Meilleure genome     : [1, 1, 1, 1, 1, 1, 1, 1, 1, 1, 1, 1, 1, 1, 1, 1, 0, 1, 1, 1, 1, 1, 1, 1, 1, 1, 1, 1, 1, 1, 1, 1, 1, 1, 1, 1, 0, 1, 1, 1, 1, 0, 1, 1, 1, 1, 1, 1, 1, 0, 1, 1, 1, 0, 1, 1, 1, 1, 1, 1, 1, 1, 1, 1, 1, 1, 1, 1, 1, 1, 1, 1, 1, 1, 1, 1, 1, 1, 1, 1, 1, 1, 1, 1, 1, 1, 1, 1, 1, 1, 1, 1, 1, 1, 1, 1, 1, 1, 1, 1]\n",
            "Moyenne Meilleure fitness    : 95\n",
            "taille de la population :  19\n"
          ],
          "name": "stdout"
        }
      ]
    },
    {
      "cell_type": "markdown",
      "metadata": {
        "id": "fLNu2RXF65Vz"
      },
      "source": [
        "*votre réponse*\n",
        "\n",
        "Pour taille population=13\n",
        "on a une moyenne de fitness à : 98\n",
        "\n",
        "Pour taille population=16\n",
        "on a une moyenne de fitness à : 97\n",
        "\n",
        "Pour taille population=19\n",
        "on a une moyenne de fitness à : 95\n",
        "\n",
        "on constate que moins on a de popultion plus on trouve la solution optimale rapidement "
      ]
    },
    {
      "cell_type": "markdown",
      "metadata": {
        "id": "pXrBd4-V61sy"
      },
      "source": [
        "\n",
        "\n",
        "\n",
        "---\n",
        "\n",
        "\n",
        "# Exercice 2\n",
        "\n",
        "Etudiez le comportement de l'algorithme lorsque l'on change le taux de mutation. \n",
        "\n",
        "Affichez les résultats pour trois paramètrages \"typiques\" (uniquement le graphe et la valeur du meilleur individu, comme ci-dessus).\n",
        "\n",
        "Qu'en concluez-vous?\n"
      ]
    },
    {
      "cell_type": "code",
      "metadata": {
        "id": "hvhz_4Iy7D-1",
        "colab": {
          "base_uri": "https://localhost:8080/",
          "height": 955
        },
        "outputId": "1ff792ee-0f40-4c29-a6c7-2fc723aca66a"
      },
      "source": [
        "# paramètres \n",
        "\n",
        "for k in range(2,5,1):\n",
        "  evaluations = 1000\n",
        "  tailleInd = 100\n",
        "  taillePop = 10\n",
        "  tailleTournoi = 8\n",
        "  Pmutation = k*(1./tailleInd) #1.0/tailleInd\n",
        "  verbose = False\n",
        "\n",
        "  # initialisation des individus de la population initiale\n",
        "\n",
        "  population = []\n",
        "  for i in range(taillePop):\n",
        "      individu = []\n",
        "      for j in range(tailleInd):\n",
        "          individu.append( randint(0,1) )\n",
        "      population.append([individu,0]) # N * [ genome[] , fitness ]\n",
        "\n",
        "  # exécute l'algorithme génétique\n",
        "\n",
        "  retValue = evolve(population,evaluations,taillePop,evaluate_oneMaxProblem,selectTournament,mutateBitFlip,Pmutation,verbose)\n",
        "\n",
        "  # affichage des résultats \n",
        "\n",
        "  plotIndividuals(retValue[0],0,evaluations,0,tailleInd)\n",
        "\n",
        "  print (\"Meilleure genome     :\", retValue[1][0])\n",
        "  print (\"Meilleure fitness    :\", retValue[1][1])\n",
        "  print(\" taux de mutation : \",Pmutation)"
      ],
      "execution_count": null,
      "outputs": [
        {
          "output_type": "display_data",
          "data": {
            "image/png": "[encoded data removed]",
            "text/plain": [
              "<Figure size 432x288 with 1 Axes>"
            ]
          },
          "metadata": {
            "tags": []
          }
        },
        {
          "output_type": "stream",
          "text": [
            "Meilleure genome     : [1, 1, 1, 1, 1, 1, 1, 1, 1, 1, 1, 1, 1, 1, 1, 1, 1, 1, 1, 1, 1, 1, 1, 1, 1, 1, 1, 1, 1, 1, 1, 1, 1, 1, 1, 1, 1, 1, 1, 1, 1, 1, 1, 1, 1, 1, 1, 1, 0, 1, 1, 1, 1, 1, 1, 1, 1, 1, 1, 1, 1, 1, 1, 1, 1, 1, 1, 1, 1, 1, 1, 1, 1, 1, 1, 1, 1, 1, 1, 1, 1, 1, 1, 1, 1, 1, 0, 0, 1, 1, 1, 1, 1, 1, 1, 1, 1, 1, 1, 1]\n",
            "Meilleure fitness    : 97\n",
            " taux de mutation :  0.02\n"
          ],
          "name": "stdout"
        },
        {
          "output_type": "display_data",
          "data": {
            "image/png": "[encoded data removed]",
            "text/plain": [
              "<Figure size 432x288 with 1 Axes>"
            ]
          },
          "metadata": {
            "tags": []
          }
        },
        {
          "output_type": "stream",
          "text": [
            "Meilleure genome     : [1, 1, 1, 1, 1, 1, 1, 1, 1, 1, 1, 1, 1, 1, 1, 1, 0, 1, 1, 1, 1, 1, 0, 1, 1, 1, 1, 1, 1, 1, 1, 1, 1, 1, 1, 1, 1, 1, 1, 1, 1, 1, 1, 1, 1, 1, 1, 1, 1, 1, 1, 1, 1, 1, 0, 1, 1, 0, 1, 1, 1, 1, 0, 1, 1, 1, 1, 0, 1, 1, 1, 1, 1, 1, 1, 1, 0, 1, 1, 1, 1, 0, 1, 1, 1, 1, 1, 1, 1, 1, 1, 1, 1, 1, 1, 1, 1, 1, 1, 1]\n",
            "Meilleure fitness    : 92\n",
            " taux de mutation :  0.03\n"
          ],
          "name": "stdout"
        },
        {
          "output_type": "display_data",
          "data": {
            "image/png": "[encoded data removed]",
            "text/plain": [
              "<Figure size 432x288 with 1 Axes>"
            ]
          },
          "metadata": {
            "tags": []
          }
        },
        {
          "output_type": "stream",
          "text": [
            "Meilleure genome     : [1, 1, 1, 1, 1, 1, 1, 1, 1, 1, 1, 1, 1, 1, 1, 1, 1, 1, 0, 0, 1, 1, 1, 1, 1, 1, 1, 1, 1, 1, 1, 0, 1, 1, 1, 1, 1, 1, 1, 1, 0, 1, 0, 1, 1, 1, 1, 1, 1, 1, 1, 0, 1, 1, 1, 1, 1, 1, 1, 0, 1, 1, 1, 1, 1, 1, 1, 1, 1, 0, 1, 1, 1, 0, 1, 1, 1, 1, 0, 1, 1, 1, 1, 1, 0, 1, 1, 1, 1, 1, 1, 1, 1, 1, 1, 1, 1, 0, 1, 1]\n",
            "Meilleure fitness    : 88\n",
            " taux de mutation :  0.04\n"
          ],
          "name": "stdout"
        }
      ]
    },
    {
      "cell_type": "markdown",
      "metadata": {
        "id": "rRxfHwZv7CJ2"
      },
      "source": [
        "*votre réponse*\n",
        "\n",
        "Pour taux de mutation =0.02\n",
        "on a une moyenne de fitness à : 97\n",
        "\n",
        "Pour taux de mutation =0.03\n",
        "on a une moyenne de fitness à : 90\n",
        "\n",
        "Pour taux de mutation =0.04\n",
        "on a une moyenne de fitness à : 88\n",
        "\n",
        "on constate que plus le taux de mutation est petit plus on trouve la solution optimale proche de la solution voulu "
      ]
    },
    {
      "cell_type": "markdown",
      "metadata": {
        "id": "4vrdjhzr60Eg"
      },
      "source": [
        "\n",
        "\n",
        "---\n",
        "\n",
        "\n",
        "\n",
        "---\n",
        "\n",
        "\n",
        "# Exercice 3\n",
        "\n",
        "Implémentez un opérateur de sélection (mu,lambda). Testez-le avec\n",
        "* mu = taillePopulation / 2\n",
        "* mu = 1\n",
        "\n",
        "Affichez les résultats pour ces deux paramètrages, ainsi que pour un troisième dont vous pouvez choisir la valeur.\n",
        "\n",
        "Qu'en concluez-vous?\n"
      ]
    },
    {
      "cell_type": "code",
      "metadata": {
        "id": "ZPQ5WHeG7Ie1"
      },
      "source": [
        "def select(pop,mu):\n",
        "    # sélectionne mu meilleurs individus\n",
        "    best = sorted(pop, key=lambda pop:pop[1])\n",
        "    parent=sample(best[mu:],k=1)\n",
        "    return parent[0][0]"
      ],
      "execution_count": null,
      "outputs": []
    },
    {
      "cell_type": "code",
      "metadata": {
        "colab": {
          "base_uri": "https://localhost:8080/"
        },
        "id": "7L51EhLTfsvJ",
        "outputId": "aa91a1b8-d5f7-4001-8cc1-f7b0f669cb0a"
      },
      "source": [
        "\n",
        "#\n",
        "# Boucle principale de l'algorithme génétique\n",
        "#\n",
        "\n",
        "def evolve1(pop,evals,taillePop,evaluate,select,mu,mutate,pMutation,verbose=False):\n",
        "  it = 0\n",
        "  nbGen = 0\n",
        "  data = []\n",
        "\n",
        "  meilleurIndividuDepuisToujours = [[],0]\n",
        "\n",
        "  while it + taillePop <= evals:\n",
        "\n",
        "      if verbose == True:\n",
        "          print (\"# Generation\", nbGen,\":\",)\n",
        "\n",
        "      # évalue les indivibdus\n",
        "\n",
        "      for individu in pop:\n",
        "          individu[1] = evaluate(individu[0])\n",
        "\n",
        "      # mémorise le meilleur de la génération\n",
        "      meilleurIndividu = returnBestIndividual(pop)\n",
        "      data.append([it+taillePop,meilleurIndividu[1]])\n",
        "\n",
        "      # met à jour, si nécessaire, le meilleur individu depuis le début\n",
        "      if meilleurIndividu[1] > meilleurIndividuDepuisToujours[1]:\n",
        "        meilleurIndividuDepuisToujours = meilleurIndividu[:]\n",
        "        meilleurIteration = it # donne l'itération correspondant au début de la génération courante.\n",
        "\n",
        "      if verbose == True:\n",
        "        print (\"\\tMeilleur individu courant:\",meilleurIndividu[0],\" -- fitness:\",meilleurIndividu[1])\n",
        "\n",
        "      # construit une nouvelle population\n",
        "\n",
        "      nouvellePopulation = []\n",
        "\n",
        "      for i in range(Lambdas):\n",
        "\n",
        "          parent = select(pop,mu)\n",
        "\n",
        "          # crée un nouvel individu par mutation de l'individu parent, et ajoute à la nouvelle population\n",
        "          nouvelIndividu = mutate(parent,Pmutation)\n",
        "\n",
        "          #print (\"\\tParent:\", parent)\n",
        "          #print (\"\\tchild :\",nouvelIndividu) \n",
        "\n",
        "          nouvellePopulation.append([nouvelIndividu,0])\n",
        "\n",
        "      # passe a la génération suivante\n",
        "\n",
        "      pop = nouvellePopulation[:]\n",
        "\n",
        "      it = it + taillePop\n",
        "      nbGen += 1\n",
        "\n",
        "  return (data,meilleurIndividuDepuisToujours,meilleurIteration)\n",
        "\n",
        "print(date.today(), datetime.now().strftime(\"%H:%M:%S\"),\"GMT\") # timestamp is greenwich time\n",
        "print(\"OK.\")"
      ],
      "execution_count": null,
      "outputs": [
        {
          "output_type": "stream",
          "text": [
            "2021-01-15 22:33:23 GMT\n",
            "OK.\n"
          ],
          "name": "stdout"
        }
      ]
    },
    {
      "cell_type": "code",
      "metadata": {
        "colab": {
          "base_uri": "https://localhost:8080/",
          "height": 1000
        },
        "id": "ip2DHXfxqDpJ",
        "outputId": "cb05c17f-d0db-458b-88f6-e6bac4312ce4"
      },
      "source": [
        "# paramètres \n",
        "evaluations = 1000\n",
        "tailleInd = 100\n",
        "taillePop = 10\n",
        "mu=1\n",
        "mu2=taillePop//2\n",
        "mu3=7\n",
        "Lambdas=10\n",
        "Pmutation = 1./tailleInd #1.0/tailleInd\n",
        "verbose = False\n",
        "\n",
        "# initialisation des individus de la population initiale\n",
        "\n",
        "population = []\n",
        "for i in range(taillePop):\n",
        "    individu = []\n",
        "    for j in range(tailleInd):\n",
        "        individu.append( randint(0,1) )\n",
        "    population.append([individu,0]) # N * [ genome[] , fitness ]\n",
        "\n",
        "# exécute l'algorithme génétique\n",
        "retValue1 = evolve1(population,evaluations,taillePop,evaluate_oneMaxProblem,select,mu,mutateBitFlip,Pmutation,verbose)\n",
        "retValue2 = evolve1(population,evaluations,taillePop,evaluate_oneMaxProblem,select,mu2,mutateBitFlip,Pmutation,verbose)\n",
        "retValue3 = evolve1(population,evaluations,taillePop,evaluate_oneMaxProblem,select,mu3,mutateBitFlip,Pmutation,verbose)\n",
        "\n",
        "# affichage des résultats \n",
        "plotIndividuals(retValue[0],0,evaluations,0,tailleInd)\n",
        "print (\"mu= \", mu)\n",
        "print (\"Meilleure genome     :\", retValue[1][0])\n",
        "print (\"Meilleure fitness    :\", retValue[1][1])\n",
        "print (\"trouvé à l'itération :\", retValue[2])\n",
        "\n",
        "plotIndividuals(retValue2[0],0,evaluations,0,tailleInd)\n",
        "print (\"mu= \", mu2)\n",
        "print (\"Meilleure genome     :\", retValue2[1][0])\n",
        "print (\"Meilleure fitness    :\", retValue2[1][1])\n",
        "print (\"trouvé à l'itération :\", retValue2[2])\n",
        "\n",
        "plotIndividuals(retValue3[0],0,evaluations,0,tailleInd)\n",
        "print (\"mu= \", mu3)\n",
        "print (\"Meilleure genome     :\", retValue3[1][0])\n",
        "print (\"Meilleure fitness    :\", retValue3[1][1])\n",
        "print (\"trouvé à l'itération :\", retValue3[2])\n",
        "\n"
      ],
      "execution_count": null,
      "outputs": [
        {
          "output_type": "display_data",
          "data": {
            "image/png": "[encoded data removed]",
            "text/plain": [
              "<Figure size 432x288 with 1 Axes>"
            ]
          },
          "metadata": {
            "tags": []
          }
        },
        {
          "output_type": "stream",
          "text": [
            "mu=  1\n",
            "Meilleure genome     : GTAGCGGAGAAGGCCTAGATCACCTGATAGA\n",
            "Meilleure fitness    : 26\n",
            "trouvé à l'itération : 740\n"
          ],
          "name": "stdout"
        },
        {
          "output_type": "display_data",
          "data": {
            "image/png": "[encoded data removed]",
            "text/plain": [
              "<Figure size 432x288 with 1 Axes>"
            ]
          },
          "metadata": {
            "tags": []
          }
        },
        {
          "output_type": "stream",
          "text": [
            "mu=  5\n",
            "Meilleure genome     : [1, 1, 1, 1, 1, 1, 1, 1, 1, 1, 1, 1, 1, 1, 1, 1, 1, 1, 1, 1, 0, 1, 1, 1, 1, 1, 1, 1, 1, 1, 1, 1, 0, 1, 1, 1, 1, 1, 1, 0, 1, 1, 1, 1, 0, 0, 1, 1, 0, 1, 1, 1, 1, 1, 1, 1, 1, 1, 1, 1, 1, 1, 1, 1, 1, 1, 1, 1, 1, 1, 1, 1, 0, 0, 1, 1, 1, 1, 1, 1, 1, 1, 1, 1, 1, 0, 1, 1, 1, 1, 1, 1, 1, 1, 1, 1, 1, 1, 1, 1]\n",
            "Meilleure fitness    : 91\n",
            "trouvé à l'itération : 800\n"
          ],
          "name": "stdout"
        },
        {
          "output_type": "display_data",
          "data": {
            "image/png": "[encoded data removed]",
            "text/plain": [
              "<Figure size 432x288 with 1 Axes>"
            ]
          },
          "metadata": {
            "tags": []
          }
        },
        {
          "output_type": "stream",
          "text": [
            "mu=  7\n",
            "Meilleure genome     : [1, 1, 1, 1, 1, 1, 1, 1, 1, 1, 1, 1, 1, 1, 1, 1, 1, 1, 0, 1, 0, 1, 0, 1, 1, 1, 1, 1, 1, 1, 1, 1, 1, 1, 1, 1, 1, 1, 1, 1, 1, 1, 1, 1, 1, 1, 1, 1, 1, 1, 1, 1, 1, 1, 1, 1, 1, 1, 1, 1, 1, 1, 1, 1, 1, 1, 1, 1, 1, 1, 1, 0, 0, 0, 1, 1, 1, 1, 1, 1, 1, 1, 1, 1, 1, 1, 1, 1, 1, 1, 1, 1, 1, 1, 1, 1, 1, 1, 1, 1]\n",
            "Meilleure fitness    : 94\n",
            "trouvé à l'itération : 820\n"
          ],
          "name": "stdout"
        }
      ]
    },
    {
      "cell_type": "markdown",
      "metadata": {
        "id": "twe-68i97HQA"
      },
      "source": [
        "On remarque que avec mu=1 (si on prends un seul individu et on le fait evolver on a une fitnesse max de 26 ce qui est tres peu et tres loin de notre cible \n",
        "\n",
        "plus mu est elevé ( plus on prends de personne elite pour les fairent evolver plus on trouve une meilleur fitnesse à la fin.\n"
      ]
    },
    {
      "cell_type": "markdown",
      "metadata": {
        "id": "PPtlSNzv6x1H"
      },
      "source": [
        "\n",
        "\n",
        "\n",
        "---\n",
        "\n",
        "\n",
        "# Exercice 4\n",
        "\n",
        "Implémentez une opérateur de croisement \"one-point crossover\", qui s'applique avec un taux de mutation Pcrossover à définir. Cet opérateur construit un nouvel individu à partir de deux individus parents.\n",
        "\n",
        "Testez cet opérateur en mettant le taux de mutation à zéro, et en utilisant l'opérateur de sélection implémenté à la question précédente, avec mu=1.\n",
        "\n",
        "Affichez le meilleur résultat que vous aurez pu trouver.\n",
        "\n",
        "Qu'en concluez-vous?\n"
      ]
    },
    {
      "cell_type": "code",
      "metadata": {
        "id": "8X_wd7jd7MWB"
      },
      "source": [
        "# Crossover parents to create children\n",
        "def crossover(father,mother,pcrossover):\n",
        "  if random() < pcrossover:\n",
        "    child=father[:len(father)//2] + mother[len(father)//2:]\n",
        "  else:\n",
        "    child=mutateBitFlip(mother,pMutation)\n",
        "  return child"
      ],
      "execution_count": null,
      "outputs": []
    },
    {
      "cell_type": "code",
      "metadata": {
        "id": "nQKc-x3Sw_MR"
      },
      "source": [
        "def select2(pop,mu):\n",
        "    # sélectionne mu meilleurs individus\n",
        "    best = sorted(pop, key=lambda pop:pop[1])\n",
        "    parent=sample(best[mu:],k=2)\n",
        "    return parent[0][0],parent[1][0]"
      ],
      "execution_count": null,
      "outputs": []
    },
    {
      "cell_type": "code",
      "metadata": {
        "colab": {
          "base_uri": "https://localhost:8080/"
        },
        "id": "cGmh7Kz0wdm7",
        "outputId": "5abecaf4-4053-4f2b-f52f-6854ff33f98a"
      },
      "source": [
        "\n",
        "def evolve2(pop,evals,taillePop,evaluate,select,mu,crossover,pcrossover,verbose=False):\n",
        "  it = 0\n",
        "  nbGen = 0\n",
        "  data = []\n",
        "\n",
        "  meilleurIndividuDepuisToujours = [[],0]\n",
        "\n",
        "  while it + taillePop <= evals:\n",
        "\n",
        "      if verbose == True:\n",
        "          print (\"# Generation\", nbGen,\":\",)\n",
        "\n",
        "      # évalue les indivibdus\n",
        "\n",
        "      for individu in pop:\n",
        "          individu[1] = evaluate(individu[0])\n",
        "\n",
        "      # mémorise le meilleur de la génération\n",
        "      meilleurIndividu = returnBestIndividual(pop)\n",
        "      data.append([it+taillePop,meilleurIndividu[1]])\n",
        "\n",
        "      # met à jour, si nécessaire, le meilleur individu depuis le début\n",
        "      if meilleurIndividu[1] > meilleurIndividuDepuisToujours[1]:\n",
        "        meilleurIndividuDepuisToujours = meilleurIndividu[:]\n",
        "        meilleurIteration = it # donne l'itération correspondant au début de la génération courante.\n",
        "\n",
        "      if verbose == True:\n",
        "        print (\"\\tMeilleur individu courant:\",meilleurIndividu[0],\" -- fitness:\",meilleurIndividu[1])\n",
        "\n",
        "      # construit une nouvelle population\n",
        "\n",
        "      nouvellePopulation = []\n",
        "\n",
        "      for i in range(Lambdas):\n",
        "\n",
        "          papa,maman = select2(pop,mu)\n",
        "\n",
        "          # crée un nouvel individu par mutation de l'individu parent, et ajoute à la nouvelle population\n",
        "          nouvelIndividu = crossover(papa,maman,pcrossover)\n",
        "\n",
        "          #print (\"\\tParent:\", papa,maman)\n",
        "          #print (\"\\tchild :\",nouvelIndividu) \n",
        "\n",
        "          nouvellePopulation.append([nouvelIndividu,0])\n",
        "\n",
        "      # passe a la génération suivante\n",
        "\n",
        "      pop = nouvellePopulation[:]\n",
        "\n",
        "      it = it + taillePop\n",
        "      nbGen += 1\n",
        "\n",
        "  return (data,meilleurIndividuDepuisToujours,meilleurIteration)\n",
        "\n",
        "print(date.today(), datetime.now().strftime(\"%H:%M:%S\"),\"GMT\") # timestamp is greenwich time\n",
        "print(\"OK.\")"
      ],
      "execution_count": null,
      "outputs": [
        {
          "output_type": "stream",
          "text": [
            "2021-01-15 22:39:20 GMT\n",
            "OK.\n"
          ],
          "name": "stdout"
        }
      ]
    },
    {
      "cell_type": "code",
      "metadata": {
        "colab": {
          "base_uri": "https://localhost:8080/",
          "height": 343
        },
        "id": "n_n985VWyTYi",
        "outputId": "aa2e8749-a83b-4979-b84b-8ac70bfffab0"
      },
      "source": [
        "\n",
        "# paramètres \n",
        "evaluations = 1000\n",
        "tailleInd = 100\n",
        "taillePop = 10\n",
        "mu=1\n",
        "Lambdas=10\n",
        "verbose = False\n",
        "pcrossover=0\n",
        "pMutation=0.1\n",
        "# initialisation des individus de la population initiale\n",
        "\n",
        "population = []\n",
        "for i in range(taillePop):\n",
        "    individu = []\n",
        "    for j in range(tailleInd):\n",
        "        individu.append( randint(0,1) )\n",
        "    population.append([individu,0]) # N * [ genome[] , fitness ]\n",
        "\n",
        "# exécute l'algorithme génétique\n",
        "retValue = evolve2(population,evaluations,taillePop,evaluate_oneMaxProblem,select,mu,crossover,pcrossover,verbose)\n",
        "# affichage des résultats \n",
        "plotIndividuals(retValue[0],0,evaluations,0,tailleInd)\n",
        "\n",
        "print (\"Meilleure genome     :\", retValue[1][0])\n",
        "print (\"Meilleure fitness    :\", retValue[1][1])\n",
        "print (\"trouvé à l'itération :\", retValue[2])"
      ],
      "execution_count": null,
      "outputs": [
        {
          "output_type": "display_data",
          "data": {
            "image/png": "[encoded data removed]",
            "text/plain": [
              "<Figure size 432x288 with 1 Axes>"
            ]
          },
          "metadata": {
            "tags": []
          }
        },
        {
          "output_type": "stream",
          "text": [
            "Meilleure genome     : [0, 1, 1, 1, 1, 1, 1, 1, 1, 0, 1, 1, 1, 0, 0, 1, 1, 1, 1, 1, 0, 1, 0, 1, 0, 0, 1, 1, 1, 1, 1, 1, 1, 0, 1, 0, 1, 0, 1, 0, 1, 1, 1, 1, 1, 0, 1, 1, 1, 1, 1, 1, 0, 1, 1, 1, 0, 1, 1, 0, 1, 0, 0, 1, 0, 0, 1, 1, 0, 0, 1, 0, 0, 1, 0, 1, 0, 1, 0, 1, 0, 1, 0, 1, 1, 1, 0, 1, 0, 1, 1, 0, 1, 1, 0, 1, 1, 0, 1, 1]\n",
            "Meilleure fitness    : 66\n",
            "trouvé à l'itération : 430\n"
          ],
          "name": "stdout"
        }
      ]
    },
    {
      "cell_type": "markdown",
      "metadata": {
        "id": "qrginlxk7NeB"
      },
      "source": [
        "pour mu =1 et Pcrossover=0 on a les memes resultat que toutes à l'heure "
      ]
    },
    {
      "cell_type": "markdown",
      "metadata": {
        "id": "yXmVx-gd6vhL"
      },
      "source": [
        "---\n",
        "# Exercice 5\n",
        "\n",
        "On vous demande maintenant de définir et d'utiliser une nouvelle fonction fitness. Il s'agit cette fois de découvrir une séquence de nucléotides cible, à savoir *ATATCGGAGAGGGCCTAGATCACATGATACA* (il s'agit d'une séquence arbitraire). \n",
        "\n",
        "L'espace de recherche est donc celui des séquences de caractères, dont chaque caractère prend une valeur A, T, C ou G. \n",
        "\n",
        "La fonction objectif renvoie la distance de hamming entre la séquence cible et la séquence courante. Le score pour chaque nucléotide est de 1 (si les deux motifs sont identiques) ou 0 (dans tous les autres cas). \n",
        "\n",
        "Implémentez cette fonction fitness, et modifiez les opérateurs de mutation et de croisement utilisés jusqu'ici pour fonctionner avec ce nouveau génome.\n",
        "\n",
        "Qu'en concluez-vous?\n"
      ]
    },
    {
      "cell_type": "code",
      "metadata": {
        "id": "kHgGuSKD7Q7Y",
        "colab": {
          "base_uri": "https://localhost:8080/"
        },
        "outputId": "097b8bd1-39d0-41d4-bd4c-bbdfc73bcba1"
      },
      "source": [
        "# renvoie la fitness d'un individu pour le problème  de nucléotide:\n",
        "def evaluate_nucleotide(genome,cible):\n",
        "    fitness = 0\n",
        "    for i in range(len(genome)):\n",
        "        if genome[i] == cible[i]:\n",
        "            fitness = fitness + 1\n",
        "    return fitness\n",
        "\n",
        "print(date.today(), datetime.now().strftime(\"%H:%M:%S\"),\"GMT\") # timestamp is greenwich time\n",
        "print(\"OK.\")"
      ],
      "execution_count": null,
      "outputs": [
        {
          "output_type": "stream",
          "text": [
            "2021-01-15 21:41:52 GMT\n",
            "OK.\n"
          ],
          "name": "stdout"
        }
      ]
    },
    {
      "cell_type": "code",
      "metadata": {
        "colab": {
          "base_uri": "https://localhost:8080/"
        },
        "id": "dzBCB1vhB2lA",
        "outputId": "e11e63dd-5056-4924-f2fc-4f8dc9a68a85"
      },
      "source": [
        "cible=\"ATATCGGAGAGGGCCTAGATCACATGATACA\"\n",
        "genome=\"ATATCGGAGAGGGCCTAGATCACATGATACA\"\n",
        "evaluate_nucleotide(genome,cible)"
      ],
      "execution_count": null,
      "outputs": [
        {
          "output_type": "execute_result",
          "data": {
            "text/plain": [
              "31"
            ]
          },
          "metadata": {
            "tags": []
          },
          "execution_count": 322
        }
      ]
    },
    {
      "cell_type": "markdown",
      "metadata": {
        "id": "vMdmQkVrChRP"
      },
      "source": [
        "# **Les operateurs :** "
      ]
    },
    {
      "cell_type": "code",
      "metadata": {
        "id": "NxWNPW49CfrC"
      },
      "source": [
        "# renvoie une copie mutée de l'individu passé en paramètre, selon la méthode de mutation \"bit-flip\"\n",
        "def mutateBitFlip2(nucleotide,pMutation):\n",
        "    nouvelnucleotide = []\n",
        "    for e in nucleotide:\n",
        "        a=\"ATGC\"\n",
        "        if random() < pMutation:\n",
        "          nouvelnucleotide.append(choice(list(''.join(a.split(e)))))\n",
        "        else:\n",
        "            nouvelnucleotide.append(e)\n",
        "    return ''.join(nouvelnucleotide)"
      ],
      "execution_count": null,
      "outputs": []
    },
    {
      "cell_type": "code",
      "metadata": {
        "id": "l4UZUBOcGjO4"
      },
      "source": [
        "# Crossover parents to create children\n",
        "def crossover2(nucleotide1,nucleotide2,pcrossover):\n",
        "  if random() < pcrossover:\n",
        "    child_nucleotide=nucleotide1[:len(nucleotide1)//2] + nucleotide2[len(nucleotide1)//2:]\n",
        "  else:\n",
        "    child_nucleotide=mutateBitFlip2(nucleotide1,pMutation)\n",
        "  return child_nucleotide\n"
      ],
      "execution_count": null,
      "outputs": []
    },
    {
      "cell_type": "code",
      "metadata": {
        "colab": {
          "base_uri": "https://localhost:8080/"
        },
        "id": "zUWs-ANOGgRb",
        "outputId": "21b2b79e-34ec-4cba-d280-93d87e55e0b9"
      },
      "source": [
        "\n",
        " # renvoie un individu sélectionné selon méthode de mu selection\n",
        "def select(pop,mu):\n",
        "    best = sorted(pop, key=lambda pop:pop[1])\n",
        "    parent_nucleotide=sample(best[mu:],k=1)\n",
        "    return parent_nucleotide[0][0]\n",
        "\n",
        "# renvoie un individu sélectionné selon méthode du tournoi (de taille k)\n",
        "def selectTournament(pop,k):\n",
        "    # sélectionne K individus (au hasard) pour le tournoi\n",
        "    tournoi = sample(list(range(len(pop))),k) # renvoi les index de K individus parmis N\n",
        "    # sélectionne le meilleur parmis les K individus (classe par ordre croissant, renvoi le dernier élément selon le fitness)\n",
        "    parent_nucleotide = pop[ sorted(tournoi, key=lambda x:pop[x][1])[-1] ][0]\n",
        "    return parent_nucleotide\n",
        "\n",
        "# renvoie le meilleu individu de la population passée en paramètre\n",
        "def returnBestnucleotide(pop):\n",
        "    meilleureFitness = 0\n",
        "    meilleurGenome = []\n",
        "    for nucleotide in pop:\n",
        "        if nucleotide[1] > meilleureFitness:\n",
        "            meilleureFitness = nucleotide[1]\n",
        "            meilleurGenome = nucleotide[0]\n",
        "    return [meilleurGenome,meilleureFitness]\n",
        "\n",
        "print(date.today(), datetime.now().strftime(\"%H:%M:%S\"),\"GMT\") # timestamp is greenwich time\n",
        "print(\"OK.\")"
      ],
      "execution_count": null,
      "outputs": [
        {
          "output_type": "stream",
          "text": [
            "2021-01-15 22:27:00 GMT\n",
            "OK.\n"
          ],
          "name": "stdout"
        }
      ]
    },
    {
      "cell_type": "code",
      "metadata": {
        "colab": {
          "base_uri": "https://localhost:8080/"
        },
        "id": "Nzxhi6sK9ryb",
        "outputId": "4611b7bf-d0ea-4665-b739-6420083bb3d6"
      },
      "source": [
        "def evolve3(pop,evals,taillePop,evaluate,cible,select,mu,crossover,pcrossover,verbose=False):\n",
        "  it = 0\n",
        "  nbGen = 0\n",
        "  data = []\n",
        "\n",
        "  meilleurnucleotideDepuisToujours = [[],0]\n",
        "\n",
        "  while it + taillePop <= evals:\n",
        "\n",
        "      if verbose == True:\n",
        "          print (\"# Generation\", nbGen,\":\",)\n",
        "\n",
        "      # évalue les indivibdus\n",
        "\n",
        "      for nucleotide in pop:\n",
        "          nucleotide[1] = evaluate(nucleotide[0],cible)\n",
        "\n",
        "      # mémorise le meilleur de la génération\n",
        "      meilleurnucleotide = returnBestnucleotide(pop)\n",
        "      data.append([it+taillePop,meilleurnucleotide[1]])\n",
        "\n",
        "      # met à jour, si nécessaire, le meilleur individu depuis le début\n",
        "      if meilleurnucleotide[1] > meilleurnucleotideDepuisToujours[1]:\n",
        "        meilleurnucleotideDepuisToujours = meilleurnucleotide[:]\n",
        "        meilleurIteration = it # donne l'itération correspondant au début de la génération courante.\n",
        "\n",
        "      if verbose == True:\n",
        "        print (\"\\tMeilleur nucleotide courant:\",meilleurnucleotide[0],\" -- fitness:\",meilleurnucleotide[1])\n",
        "\n",
        "      # construit une nouvelle population\n",
        "\n",
        "      nouvellePopulation = []\n",
        "\n",
        "      for i in range(Lambdas):\n",
        "\n",
        "          nucleotide1,nucleotide2 = select2(pop,mu)\n",
        "\n",
        "          # crée un nouvel nucleotide par mutation du nucleotide parent, et ajoute à la nouvelle population\n",
        "          nouvelnucleotide = crossover2(nucleotide1,nucleotide2,pcrossover)\n",
        "\n",
        "          #print (\"\\tParent:\", papa,maman)\n",
        "          #print (\"\\tchild :\",nouvelnucleotide) \n",
        "\n",
        "          nouvellePopulation.append([nouvelnucleotide,0])\n",
        "\n",
        "      # passe a la génération suivante\n",
        "\n",
        "      pop = nouvellePopulation[:]\n",
        "\n",
        "      it = it + taillePop\n",
        "      nbGen += 1\n",
        "\n",
        "  return (data,meilleurnucleotideDepuisToujours,meilleurIteration)\n",
        "\n",
        "print(date.today(), datetime.now().strftime(\"%H:%M:%S\"),\"GMT\") # timestamp is greenwich time\n",
        "print(\"OK.\")"
      ],
      "execution_count": null,
      "outputs": [
        {
          "output_type": "stream",
          "text": [
            "2021-01-15 22:27:01 GMT\n",
            "OK.\n"
          ],
          "name": "stdout"
        }
      ]
    },
    {
      "cell_type": "code",
      "metadata": {
        "colab": {
          "base_uri": "https://localhost:8080/",
          "height": 319
        },
        "id": "FWFjyM_G-Q6B",
        "outputId": "a620f14e-e37a-4fb9-b8fe-0f38108c5b01"
      },
      "source": [
        "# paramètres \n",
        "evaluations = 1000\n",
        "taillenucleotide = 31\n",
        "taillePop = 10\n",
        "mu=5\n",
        "Lambdas=10\n",
        "verbose = False\n",
        "pcrossover=0.5\n",
        "pMutation=0.1\n",
        "\n",
        "# initialisation des nucleotide de la population initiale\n",
        "population = []\n",
        "for i in range(taillePop):\n",
        "    nucleotide = []\n",
        "    for j in range(taillenucleotide):\n",
        "        nucleotide.append(choice(a) )\n",
        "    population.append([''.join(nucleotide),0]) # N * [ genome[] , fitness ]\n",
        "#print(population)\n",
        "# exécute l'algorithme génétique\n",
        "retValue = evolve3(population,evaluations,taillePop,evaluate_nucleotide,cible,select,mu,crossover,pcrossover,verbose)\n",
        "# affichage des résultats \n",
        "plotIndividuals(retValue[0],0,evaluations,0,taillenucleotide)\n",
        "\n",
        "print (\"Meilleure genome     :\", retValue[1][0])\n",
        "print (\"Meilleure fitness    :\", retValue[1][1])\n",
        "print (\"trouvé à l'itération :\", retValue[2])"
      ],
      "execution_count": null,
      "outputs": [
        {
          "output_type": "display_data",
          "data": {
            "image/png": "[encoded data removed]",
            "text/plain": [
              "<Figure size 432x288 with 1 Axes>"
            ]
          },
          "metadata": {
            "tags": []
          }
        },
        {
          "output_type": "stream",
          "text": [
            "Meilleure genome     : GTAGCGGAGAAGGCCTAGATCACCTGATAGA\n",
            "Meilleure fitness    : 26\n",
            "trouvé à l'itération : 740\n"
          ],
          "name": "stdout"
        }
      ]
    },
    {
      "cell_type": "markdown",
      "metadata": {
        "id": "POFv2rT27R3g"
      },
      "source": [
        "*votre réponse*"
      ]
    },
    {
      "cell_type": "markdown",
      "metadata": {
        "id": "9Fizvvnny8_T"
      },
      "source": [
        "---\n",
        "\n",
        "# Exercice 6\n",
        "\n",
        "On a jusqu'ici observé les résultats d'une seule exécution de l'algorithme pour chaque jeu de paramètres. Les algorithmes évolutionnaires sont par essence stochastique, et *il est important de systématiquement plusieurs runs indépendants pour un même jeu de paramètres*. C'est en compilant ces résultats qu'on obtient une bonne estimation de la qualité de notre algorithme et des paramètres utilisés. \n",
        "\n",
        "Pour l'instant, vous avez comparé *empiriquement* la forme des courbes et vous avez basé vos conclusions sur l'itération à laquelle le meilleur individu a été découvert et sa valeur de fitness, en lançant plusieurs expérience.\n",
        "\n",
        "On souhaite maintenant synthétiser en un seul graphique les performances obtenues sur plusieurs exécutions indépendantes avec les mêmes paramètres.\n",
        "\n",
        "En vous inspirant du code ci-dessous, compilez les résultats de 20 exécutions indépendantes en utilisant les paramètres initialement donnés dans l'exemple initial.\n",
        "\n",
        "Faites la même chose en utilisant la version écrite pour la question 3, avec mu=1, d'abord avec le taux de mutation initial. Ensuite, essayer de trouver le \"meilleur\" taux de mutation pour trouver la solution plus rapidement.\n",
        "\n",
        "Tracez les trois graphes obtenus.\n",
        "\n",
        "Commentez vos résultats.\n"
      ]
    },
    {
      "cell_type": "code",
      "metadata": {
        "id": "hP3P5u65xrom",
        "colab": {
          "base_uri": "https://localhost:8080/",
          "height": 406
        },
        "outputId": "8b2b3b99-b92c-407d-ae0c-521590c1e496"
      },
      "source": [
        "# Pour vous aider, la cellule qui suit contient un exemple pour tracer des *boxplot* à partir de jeu de données différents.\n",
        "# exemple adapté de: https://matplotlib.org/3.3.3/gallery/pyplots/boxplot_demo_pyplot.html#sphx-glr-gallery-pyplots-boxplot-demo-pyplot-py\n",
        "\n",
        "# Fixing random state for reproducibility\n",
        "np.random.seed(14)\n",
        "\n",
        "data = np.random.rand(10) * -100\n",
        "data = [data, data[2::2], data[5::]]  # utilise le même ensemble de donnée pour construire 3 listes de données différentes\n",
        "fig, ax = plt.subplots()\n",
        "ax.set_title('Boxplots')\n",
        "ax.boxplot(data)\n",
        "\n",
        "plt.show()\n",
        "\n",
        "print (data)"
      ],
      "execution_count": null,
      "outputs": [
        {
          "output_type": "stream",
          "text": [
            "/usr/local/lib/python3.6/dist-packages/numpy/core/_asarray.py:83: VisibleDeprecationWarning: Creating an ndarray from ragged nested sequences (which is a list-or-tuple of lists-or-tuples-or ndarrays with different lengths or shapes) is deprecated. If you meant to do this, you must specify 'dtype=object' when creating the ndarray\n",
            "  return array(a, dtype, copy=False, order=order)\n"
          ],
          "name": "stderr"
        },
        {
          "output_type": "display_data",
          "data": {
            "image/png": "[encoded data removed]",
            "text/plain": [
              "<Figure size 432x288 with 1 Axes>"
            ]
          },
          "metadata": {
            "tags": []
          }
        },
        {
          "output_type": "stream",
          "text": [
            "[array([-51.39433438, -77.31650521, -87.04276857,  -0.80469485,\n",
            "       -30.97359255, -95.76037394, -51.31167123, -31.82844249,\n",
            "       -53.91999374, -22.12549424]), array([-87.04276857, -30.97359255, -51.31167123, -53.91999374]), array([-95.76037394, -51.31167123, -31.82844249, -53.91999374,\n",
            "       -22.12549424])]\n"
          ],
          "name": "stdout"
        }
      ]
    },
    {
      "cell_type": "markdown",
      "metadata": {
        "id": "ONE9cVO57UvE"
      },
      "source": [
        "*votre réponse*"
      ]
    }
  ]
}